{
 "cells": [
  {
   "cell_type": "markdown",
   "metadata": {},
   "source": [
    "# Data Cleaning with Pandas"
   ]
  },
  {
   "cell_type": "code",
   "execution_count": 1,
   "metadata": {},
   "outputs": [],
   "source": [
    "import pandas as pd"
   ]
  },
  {
   "cell_type": "markdown",
   "metadata": {},
   "source": [
    "## Scenario\n",
    "\n",
    "As data scientists, we want to build a model to predict the sale price of a house in Seattle in 2019, based on its square footage. We know that the King County Department of Assessments has comprehensive data available on real property sales in the Seattle area. We need to prepare the data."
   ]
  },
  {
   "cell_type": "markdown",
   "metadata": {},
   "source": [
    "### First, get the data!\n",
    "\n",
    "When working on a project involving data that can fit on our computer, we store it in a `data` directory.\n",
    "\n",
    "```bash\n",
    "cd <project_directory>  # example: cd ~/flatiron_ds/pandas-3\n",
    "mkdir data\n",
    "cd data\n",
    "```\n",
    "\n",
    "Note that `<project_directory>` in angle brackets is a _placeholder_. You should type the path to the actual location on your computer where you're working on this project. Do not literally type `<project_directory>` and _do not type the angle brackets_. You can see an example in the _comment_ to the right of the command above.\n",
    "\n",
    "Now, we'll need to download the two data files that we need. We can do this at the command line:\n",
    "\n",
    "```bash\n",
    "wget https://aqua.kingcounty.gov/extranet/assessor/Real%20Property%20Sales.zip\n",
    "wget https://aqua.kingcounty.gov/extranet/assessor/Residential%20Building.zip\n",
    "```\n",
    "\n",
    "*Note:* If you do not have the `wget` command yet, you can install it: `brew install wget`.\n",
    "\n",
    "Note that `%20` in a URL translates into a space. Even though you will *never put spaces in filenames*, you may need to deal with spaces that _other_ people have used in filenames.\n",
    "\n",
    "There are two ways to handle the spaces in these filenames when referencing them at the command line.\n",
    "\n",
    "#### 1. You can _escape_ the spaces by putting a backslash (`\\`, remember _backslash is next to backspace_) before each one:\n",
    "\n",
    "`unzip Real\\ Property\\ Sales.zip`\n",
    "\n",
    "This is what happens if you tab-complete the filename in the terminal. Tab completion is your friend!\n",
    "\n",
    "#### 2. You can put the entire filename in quotes:\n",
    "\n",
    "`unzip \"Real Property Sales.zip\"`\n",
    "\n",
    "Try unzipping these files with the `unzip` command. The `unzip` command takes one argument, the name of the tile that you want to unzip.\n",
    "\n",
    "\n",
    "You can use tab completion (press the `tab` key after the first three letters) to fill in the names, including spaces. This will "
   ]
  },
  {
   "cell_type": "code",
   "execution_count": 2,
   "metadata": {
    "scrolled": true
   },
   "outputs": [
    {
     "name": "stderr",
     "output_type": "stream",
     "text": [
      "/Users/cnuno/anaconda3/lib/python3.7/site-packages/IPython/core/interactiveshell.py:3020: DtypeWarning: Columns (1,2) have mixed types. Specify dtype option on import or set low_memory=False.\n",
      "  interactivity=interactivity, compiler=compiler, result=result)\n"
     ]
    }
   ],
   "source": [
    "sales_df = pd.read_csv('data/property_sales.csv')"
   ]
  },
  {
   "cell_type": "markdown",
   "metadata": {},
   "source": [
    "### Seeing pink? Warnings are useful!\n",
    "\n",
    "Note the warning above: `DtypeWarning: Columns (1, 2) have mixed types.` Because we start with an index of zero, the columns that we're being warned about are actually the _second_ and _third_ columns, `sales_df['Major']` and `sales_df['Minor']`."
   ]
  },
  {
   "cell_type": "code",
   "execution_count": 3,
   "metadata": {},
   "outputs": [
    {
     "data": {
      "text/html": [
       "<div>\n",
       "<style scoped>\n",
       "    .dataframe tbody tr th:only-of-type {\n",
       "        vertical-align: middle;\n",
       "    }\n",
       "\n",
       "    .dataframe tbody tr th {\n",
       "        vertical-align: top;\n",
       "    }\n",
       "\n",
       "    .dataframe thead th {\n",
       "        text-align: right;\n",
       "    }\n",
       "</style>\n",
       "<table border=\"1\" class=\"dataframe\">\n",
       "  <thead>\n",
       "    <tr style=\"text-align: right;\">\n",
       "      <th></th>\n",
       "      <th>0</th>\n",
       "      <th>1</th>\n",
       "      <th>2</th>\n",
       "      <th>3</th>\n",
       "      <th>4</th>\n",
       "    </tr>\n",
       "  </thead>\n",
       "  <tbody>\n",
       "    <tr>\n",
       "      <th>ExciseTaxNbr</th>\n",
       "      <td>2687551</td>\n",
       "      <td>1235111</td>\n",
       "      <td>2704079</td>\n",
       "      <td>2584094</td>\n",
       "      <td>1056831</td>\n",
       "    </tr>\n",
       "    <tr>\n",
       "      <th>Major</th>\n",
       "      <td>138860</td>\n",
       "      <td>664885</td>\n",
       "      <td>423943</td>\n",
       "      <td>403700</td>\n",
       "      <td>951120</td>\n",
       "    </tr>\n",
       "    <tr>\n",
       "      <th>Minor</th>\n",
       "      <td>110</td>\n",
       "      <td>40</td>\n",
       "      <td>50</td>\n",
       "      <td>715</td>\n",
       "      <td>900</td>\n",
       "    </tr>\n",
       "    <tr>\n",
       "      <th>DocumentDate</th>\n",
       "      <td>08/21/2014</td>\n",
       "      <td>07/09/1991</td>\n",
       "      <td>10/11/2014</td>\n",
       "      <td>01/04/2013</td>\n",
       "      <td>04/20/1989</td>\n",
       "    </tr>\n",
       "    <tr>\n",
       "      <th>SalePrice</th>\n",
       "      <td>245000</td>\n",
       "      <td>0</td>\n",
       "      <td>0</td>\n",
       "      <td>0</td>\n",
       "      <td>85000</td>\n",
       "    </tr>\n",
       "    <tr>\n",
       "      <th>RecordingNbr</th>\n",
       "      <td>20140828001436</td>\n",
       "      <td>199203161090</td>\n",
       "      <td>20141205000558</td>\n",
       "      <td>20130110000910</td>\n",
       "      <td>198904260448</td>\n",
       "    </tr>\n",
       "    <tr>\n",
       "      <th>Volume</th>\n",
       "      <td></td>\n",
       "      <td>071</td>\n",
       "      <td></td>\n",
       "      <td></td>\n",
       "      <td>117</td>\n",
       "    </tr>\n",
       "    <tr>\n",
       "      <th>Page</th>\n",
       "      <td></td>\n",
       "      <td>001</td>\n",
       "      <td></td>\n",
       "      <td></td>\n",
       "      <td>053</td>\n",
       "    </tr>\n",
       "    <tr>\n",
       "      <th>PlatNbr</th>\n",
       "      <td></td>\n",
       "      <td>664885</td>\n",
       "      <td></td>\n",
       "      <td></td>\n",
       "      <td>951120</td>\n",
       "    </tr>\n",
       "    <tr>\n",
       "      <th>PlatType</th>\n",
       "      <td></td>\n",
       "      <td>C</td>\n",
       "      <td></td>\n",
       "      <td></td>\n",
       "      <td>P</td>\n",
       "    </tr>\n",
       "    <tr>\n",
       "      <th>PlatLot</th>\n",
       "      <td></td>\n",
       "      <td>B102</td>\n",
       "      <td></td>\n",
       "      <td></td>\n",
       "      <td>90</td>\n",
       "    </tr>\n",
       "    <tr>\n",
       "      <th>PlatBlock</th>\n",
       "      <td></td>\n",
       "      <td></td>\n",
       "      <td></td>\n",
       "      <td></td>\n",
       "      <td></td>\n",
       "    </tr>\n",
       "    <tr>\n",
       "      <th>SellerName</th>\n",
       "      <td>WENKLE NOEL SMITH -TRUSTEE                    ...</td>\n",
       "      <td>HERRMAN JEFFREY A+PAULINE A                   ...</td>\n",
       "      <td>STEPHENS ANTHONY P                            ...</td>\n",
       "      <td>PASTORS EDWIN                                 ...</td>\n",
       "      <td>STRATHY FLORENCE G                            ...</td>\n",
       "    </tr>\n",
       "    <tr>\n",
       "      <th>BuyerName</th>\n",
       "      <td>ALEXANDER APRIL                               ...</td>\n",
       "      <td>HERRMAN PAULINE A TTEE                        ...</td>\n",
       "      <td>STEPHENS ANTHONY P                            ...</td>\n",
       "      <td>PASTORS KHRISTINA                             ...</td>\n",
       "      <td>PORTER DONALD D+EVELYN V                      ...</td>\n",
       "    </tr>\n",
       "    <tr>\n",
       "      <th>PropertyType</th>\n",
       "      <td>3</td>\n",
       "      <td>3</td>\n",
       "      <td>3</td>\n",
       "      <td>3</td>\n",
       "      <td>3</td>\n",
       "    </tr>\n",
       "    <tr>\n",
       "      <th>PrincipalUse</th>\n",
       "      <td>6</td>\n",
       "      <td>0</td>\n",
       "      <td>6</td>\n",
       "      <td>6</td>\n",
       "      <td>0</td>\n",
       "    </tr>\n",
       "    <tr>\n",
       "      <th>SaleInstrument</th>\n",
       "      <td>3</td>\n",
       "      <td>26</td>\n",
       "      <td>15</td>\n",
       "      <td>15</td>\n",
       "      <td>2</td>\n",
       "    </tr>\n",
       "    <tr>\n",
       "      <th>AFForestLand</th>\n",
       "      <td>N</td>\n",
       "      <td>N</td>\n",
       "      <td>N</td>\n",
       "      <td>N</td>\n",
       "      <td>N</td>\n",
       "    </tr>\n",
       "    <tr>\n",
       "      <th>AFCurrentUseLand</th>\n",
       "      <td>N</td>\n",
       "      <td>N</td>\n",
       "      <td>N</td>\n",
       "      <td>N</td>\n",
       "      <td>N</td>\n",
       "    </tr>\n",
       "    <tr>\n",
       "      <th>AFNonProfitUse</th>\n",
       "      <td>N</td>\n",
       "      <td>N</td>\n",
       "      <td>N</td>\n",
       "      <td>N</td>\n",
       "      <td>N</td>\n",
       "    </tr>\n",
       "    <tr>\n",
       "      <th>AFHistoricProperty</th>\n",
       "      <td>N</td>\n",
       "      <td>N</td>\n",
       "      <td>N</td>\n",
       "      <td>N</td>\n",
       "      <td>N</td>\n",
       "    </tr>\n",
       "    <tr>\n",
       "      <th>SaleReason</th>\n",
       "      <td>1</td>\n",
       "      <td>18</td>\n",
       "      <td>18</td>\n",
       "      <td>11</td>\n",
       "      <td>1</td>\n",
       "    </tr>\n",
       "    <tr>\n",
       "      <th>PropertyClass</th>\n",
       "      <td>8</td>\n",
       "      <td>3</td>\n",
       "      <td>8</td>\n",
       "      <td>8</td>\n",
       "      <td>9</td>\n",
       "    </tr>\n",
       "    <tr>\n",
       "      <th>SaleWarning</th>\n",
       "      <td></td>\n",
       "      <td>11</td>\n",
       "      <td>18 31 51</td>\n",
       "      <td>18 31 38</td>\n",
       "      <td>49</td>\n",
       "    </tr>\n",
       "  </tbody>\n",
       "</table>\n",
       "</div>"
      ],
      "text/plain": [
       "                                                                    0  \\\n",
       "ExciseTaxNbr                                                  2687551   \n",
       "Major                                                          138860   \n",
       "Minor                                                             110   \n",
       "DocumentDate                                               08/21/2014   \n",
       "SalePrice                                                      245000   \n",
       "RecordingNbr                                           20140828001436   \n",
       "Volume                                                                  \n",
       "Page                                                                    \n",
       "PlatNbr                                                                 \n",
       "PlatType                                                                \n",
       "PlatLot                                                                 \n",
       "PlatBlock                                                               \n",
       "SellerName          WENKLE NOEL SMITH -TRUSTEE                    ...   \n",
       "BuyerName           ALEXANDER APRIL                               ...   \n",
       "PropertyType                                                        3   \n",
       "PrincipalUse                                                        6   \n",
       "SaleInstrument                                                      3   \n",
       "AFForestLand                                                        N   \n",
       "AFCurrentUseLand                                                    N   \n",
       "AFNonProfitUse                                                      N   \n",
       "AFHistoricProperty                                                  N   \n",
       "SaleReason                                                          1   \n",
       "PropertyClass                                                       8   \n",
       "SaleWarning                                                             \n",
       "\n",
       "                                                                    1  \\\n",
       "ExciseTaxNbr                                                  1235111   \n",
       "Major                                                          664885   \n",
       "Minor                                                              40   \n",
       "DocumentDate                                               07/09/1991   \n",
       "SalePrice                                                           0   \n",
       "RecordingNbr                                           199203161090     \n",
       "Volume                                                            071   \n",
       "Page                                                              001   \n",
       "PlatNbr                                                        664885   \n",
       "PlatType                                                            C   \n",
       "PlatLot                                                B102             \n",
       "PlatBlock                                                               \n",
       "SellerName          HERRMAN JEFFREY A+PAULINE A                   ...   \n",
       "BuyerName           HERRMAN PAULINE A TTEE                        ...   \n",
       "PropertyType                                                        3   \n",
       "PrincipalUse                                                        0   \n",
       "SaleInstrument                                                     26   \n",
       "AFForestLand                                                        N   \n",
       "AFCurrentUseLand                                                    N   \n",
       "AFNonProfitUse                                                      N   \n",
       "AFHistoricProperty                                                  N   \n",
       "SaleReason                                                         18   \n",
       "PropertyClass                                                       3   \n",
       "SaleWarning                                                        11   \n",
       "\n",
       "                                                                    2  \\\n",
       "ExciseTaxNbr                                                  2704079   \n",
       "Major                                                          423943   \n",
       "Minor                                                              50   \n",
       "DocumentDate                                               10/11/2014   \n",
       "SalePrice                                                           0   \n",
       "RecordingNbr                                           20141205000558   \n",
       "Volume                                                                  \n",
       "Page                                                                    \n",
       "PlatNbr                                                                 \n",
       "PlatType                                                                \n",
       "PlatLot                                                                 \n",
       "PlatBlock                                                               \n",
       "SellerName          STEPHENS ANTHONY P                            ...   \n",
       "BuyerName           STEPHENS ANTHONY P                            ...   \n",
       "PropertyType                                                        3   \n",
       "PrincipalUse                                                        6   \n",
       "SaleInstrument                                                     15   \n",
       "AFForestLand                                                        N   \n",
       "AFCurrentUseLand                                                    N   \n",
       "AFNonProfitUse                                                      N   \n",
       "AFHistoricProperty                                                  N   \n",
       "SaleReason                                                         18   \n",
       "PropertyClass                                                       8   \n",
       "SaleWarning                                                  18 31 51   \n",
       "\n",
       "                                                                    3  \\\n",
       "ExciseTaxNbr                                                  2584094   \n",
       "Major                                                          403700   \n",
       "Minor                                                             715   \n",
       "DocumentDate                                               01/04/2013   \n",
       "SalePrice                                                           0   \n",
       "RecordingNbr                                           20130110000910   \n",
       "Volume                                                                  \n",
       "Page                                                                    \n",
       "PlatNbr                                                                 \n",
       "PlatType                                                                \n",
       "PlatLot                                                                 \n",
       "PlatBlock                                                               \n",
       "SellerName          PASTORS EDWIN                                 ...   \n",
       "BuyerName           PASTORS KHRISTINA                             ...   \n",
       "PropertyType                                                        3   \n",
       "PrincipalUse                                                        6   \n",
       "SaleInstrument                                                     15   \n",
       "AFForestLand                                                        N   \n",
       "AFCurrentUseLand                                                    N   \n",
       "AFNonProfitUse                                                      N   \n",
       "AFHistoricProperty                                                  N   \n",
       "SaleReason                                                         11   \n",
       "PropertyClass                                                       8   \n",
       "SaleWarning                                                  18 31 38   \n",
       "\n",
       "                                                                    4  \n",
       "ExciseTaxNbr                                                  1056831  \n",
       "Major                                                          951120  \n",
       "Minor                                                             900  \n",
       "DocumentDate                                               04/20/1989  \n",
       "SalePrice                                                       85000  \n",
       "RecordingNbr                                           198904260448    \n",
       "Volume                                                            117  \n",
       "Page                                                              053  \n",
       "PlatNbr                                                        951120  \n",
       "PlatType                                                            P  \n",
       "PlatLot                                                90              \n",
       "PlatBlock                                                              \n",
       "SellerName          STRATHY FLORENCE G                            ...  \n",
       "BuyerName           PORTER DONALD D+EVELYN V                      ...  \n",
       "PropertyType                                                        3  \n",
       "PrincipalUse                                                        0  \n",
       "SaleInstrument                                                      2  \n",
       "AFForestLand                                                        N  \n",
       "AFCurrentUseLand                                                    N  \n",
       "AFNonProfitUse                                                      N  \n",
       "AFHistoricProperty                                                  N  \n",
       "SaleReason                                                          1  \n",
       "PropertyClass                                                       9  \n",
       "SaleWarning                                                        49  "
      ]
     },
     "execution_count": 3,
     "metadata": {},
     "output_type": "execute_result"
    }
   ],
   "source": [
    "sales_df.head().T"
   ]
  },
  {
   "cell_type": "markdown",
   "metadata": {},
   "source": [
    "### Data overload?\n",
    "\n",
    "That's a lot of columns. We're only interested in identifying the date, sale price, and square footage of each specific property. What can we do?"
   ]
  },
  {
   "cell_type": "code",
   "execution_count": 4,
   "metadata": {},
   "outputs": [],
   "source": [
    "sales_df = sales_df[['Major', 'Minor', 'DocumentDate', 'SalePrice']]"
   ]
  },
  {
   "cell_type": "code",
   "execution_count": 5,
   "metadata": {},
   "outputs": [
    {
     "name": "stdout",
     "output_type": "stream",
     "text": [
      "<class 'pandas.core.frame.DataFrame'>\n",
      "RangeIndex: 2014336 entries, 0 to 2014335\n",
      "Data columns (total 4 columns):\n",
      "Major           object\n",
      "Minor           object\n",
      "DocumentDate    object\n",
      "SalePrice       int64\n",
      "dtypes: int64(1), object(3)\n",
      "memory usage: 61.5+ MB\n"
     ]
    }
   ],
   "source": [
    "sales_df.info()"
   ]
  },
  {
   "cell_type": "code",
   "execution_count": 6,
   "metadata": {
    "scrolled": true
   },
   "outputs": [
    {
     "name": "stderr",
     "output_type": "stream",
     "text": [
      "/Users/cnuno/anaconda3/lib/python3.7/site-packages/IPython/core/interactiveshell.py:3020: DtypeWarning: Columns (11) have mixed types. Specify dtype option on import or set low_memory=False.\n",
      "  interactivity=interactivity, compiler=compiler, result=result)\n"
     ]
    }
   ],
   "source": [
    "bldg_df = pd.read_csv('data/res_building.csv')"
   ]
  },
  {
   "cell_type": "markdown",
   "metadata": {},
   "source": [
    "### Another warning! Which column has index 11?"
   ]
  },
  {
   "cell_type": "code",
   "execution_count": 7,
   "metadata": {},
   "outputs": [
    {
     "data": {
      "text/plain": [
       "'ZipCode'"
      ]
     },
     "execution_count": 7,
     "metadata": {},
     "output_type": "execute_result"
    }
   ],
   "source": [
    "bldg_df.columns[11]"
   ]
  },
  {
   "cell_type": "markdown",
   "metadata": {},
   "source": [
    "`ZipCode` seems like a potentially useful column. We'll need it to determine which house sales took place in Seattle."
   ]
  },
  {
   "cell_type": "code",
   "execution_count": 8,
   "metadata": {
    "scrolled": true
   },
   "outputs": [
    {
     "data": {
      "text/html": [
       "<div>\n",
       "<style scoped>\n",
       "    .dataframe tbody tr th:only-of-type {\n",
       "        vertical-align: middle;\n",
       "    }\n",
       "\n",
       "    .dataframe tbody tr th {\n",
       "        vertical-align: top;\n",
       "    }\n",
       "\n",
       "    .dataframe thead th {\n",
       "        text-align: right;\n",
       "    }\n",
       "</style>\n",
       "<table border=\"1\" class=\"dataframe\">\n",
       "  <thead>\n",
       "    <tr style=\"text-align: right;\">\n",
       "      <th></th>\n",
       "      <th>0</th>\n",
       "      <th>1</th>\n",
       "      <th>2</th>\n",
       "      <th>3</th>\n",
       "      <th>4</th>\n",
       "    </tr>\n",
       "  </thead>\n",
       "  <tbody>\n",
       "    <tr>\n",
       "      <th>Major</th>\n",
       "      <td>4300</td>\n",
       "      <td>4610</td>\n",
       "      <td>4610</td>\n",
       "      <td>4610</td>\n",
       "      <td>4900</td>\n",
       "    </tr>\n",
       "    <tr>\n",
       "      <th>Minor</th>\n",
       "      <td>167</td>\n",
       "      <td>399</td>\n",
       "      <td>503</td>\n",
       "      <td>505</td>\n",
       "      <td>56</td>\n",
       "    </tr>\n",
       "    <tr>\n",
       "      <th>BldgNbr</th>\n",
       "      <td>1</td>\n",
       "      <td>1</td>\n",
       "      <td>1</td>\n",
       "      <td>1</td>\n",
       "      <td>1</td>\n",
       "    </tr>\n",
       "    <tr>\n",
       "      <th>NbrLivingUnits</th>\n",
       "      <td>1</td>\n",
       "      <td>1</td>\n",
       "      <td>1</td>\n",
       "      <td>1</td>\n",
       "      <td>1</td>\n",
       "    </tr>\n",
       "    <tr>\n",
       "      <th>Address</th>\n",
       "      <td>15223   40TH AVE S  98188</td>\n",
       "      <td>4431   FERNCROFT RD   98040</td>\n",
       "      <td>4516   FERNCROFT RD   98040</td>\n",
       "      <td>4538   FERNCROFT RD   98040</td>\n",
       "      <td>3015  SW 105TH ST   98146</td>\n",
       "    </tr>\n",
       "    <tr>\n",
       "      <th>BuildingNumber</th>\n",
       "      <td>15223</td>\n",
       "      <td>4431</td>\n",
       "      <td>4516</td>\n",
       "      <td>4538</td>\n",
       "      <td>3015</td>\n",
       "    </tr>\n",
       "    <tr>\n",
       "      <th>Fraction</th>\n",
       "      <td></td>\n",
       "      <td></td>\n",
       "      <td></td>\n",
       "      <td></td>\n",
       "      <td></td>\n",
       "    </tr>\n",
       "    <tr>\n",
       "      <th>DirectionPrefix</th>\n",
       "      <td></td>\n",
       "      <td></td>\n",
       "      <td></td>\n",
       "      <td></td>\n",
       "      <td>SW</td>\n",
       "    </tr>\n",
       "    <tr>\n",
       "      <th>StreetName</th>\n",
       "      <td>40TH</td>\n",
       "      <td>FERNCROFT</td>\n",
       "      <td>FERNCROFT</td>\n",
       "      <td>FERNCROFT</td>\n",
       "      <td>105TH</td>\n",
       "    </tr>\n",
       "    <tr>\n",
       "      <th>StreetType</th>\n",
       "      <td>AVE</td>\n",
       "      <td>RD</td>\n",
       "      <td>RD</td>\n",
       "      <td>RD</td>\n",
       "      <td>ST</td>\n",
       "    </tr>\n",
       "    <tr>\n",
       "      <th>DirectionSuffix</th>\n",
       "      <td>S</td>\n",
       "      <td></td>\n",
       "      <td></td>\n",
       "      <td></td>\n",
       "      <td></td>\n",
       "    </tr>\n",
       "    <tr>\n",
       "      <th>ZipCode</th>\n",
       "      <td>98188</td>\n",
       "      <td>98040</td>\n",
       "      <td>98040</td>\n",
       "      <td>98040</td>\n",
       "      <td>98146</td>\n",
       "    </tr>\n",
       "    <tr>\n",
       "      <th>Stories</th>\n",
       "      <td>1</td>\n",
       "      <td>2</td>\n",
       "      <td>2</td>\n",
       "      <td>2</td>\n",
       "      <td>1</td>\n",
       "    </tr>\n",
       "    <tr>\n",
       "      <th>BldgGrade</th>\n",
       "      <td>6</td>\n",
       "      <td>9</td>\n",
       "      <td>9</td>\n",
       "      <td>11</td>\n",
       "      <td>7</td>\n",
       "    </tr>\n",
       "    <tr>\n",
       "      <th>BldgGradeVar</th>\n",
       "      <td>0</td>\n",
       "      <td>0</td>\n",
       "      <td>0</td>\n",
       "      <td>0</td>\n",
       "      <td>0</td>\n",
       "    </tr>\n",
       "    <tr>\n",
       "      <th>SqFt1stFloor</th>\n",
       "      <td>990</td>\n",
       "      <td>980</td>\n",
       "      <td>1916</td>\n",
       "      <td>2250</td>\n",
       "      <td>1040</td>\n",
       "    </tr>\n",
       "    <tr>\n",
       "      <th>SqFtHalfFloor</th>\n",
       "      <td>0</td>\n",
       "      <td>0</td>\n",
       "      <td>0</td>\n",
       "      <td>0</td>\n",
       "      <td>0</td>\n",
       "    </tr>\n",
       "    <tr>\n",
       "      <th>SqFt2ndFloor</th>\n",
       "      <td>0</td>\n",
       "      <td>1140</td>\n",
       "      <td>1473</td>\n",
       "      <td>1850</td>\n",
       "      <td>0</td>\n",
       "    </tr>\n",
       "    <tr>\n",
       "      <th>SqFtUpperFloor</th>\n",
       "      <td>0</td>\n",
       "      <td>0</td>\n",
       "      <td>0</td>\n",
       "      <td>0</td>\n",
       "      <td>0</td>\n",
       "    </tr>\n",
       "    <tr>\n",
       "      <th>SqFtUnfinFull</th>\n",
       "      <td>0</td>\n",
       "      <td>0</td>\n",
       "      <td>0</td>\n",
       "      <td>0</td>\n",
       "      <td>0</td>\n",
       "    </tr>\n",
       "    <tr>\n",
       "      <th>SqFtUnfinHalf</th>\n",
       "      <td>0</td>\n",
       "      <td>0</td>\n",
       "      <td>0</td>\n",
       "      <td>0</td>\n",
       "      <td>0</td>\n",
       "    </tr>\n",
       "    <tr>\n",
       "      <th>SqFtTotLiving</th>\n",
       "      <td>990</td>\n",
       "      <td>2950</td>\n",
       "      <td>3389</td>\n",
       "      <td>4100</td>\n",
       "      <td>1570</td>\n",
       "    </tr>\n",
       "    <tr>\n",
       "      <th>SqFtTotBasement</th>\n",
       "      <td>990</td>\n",
       "      <td>940</td>\n",
       "      <td>0</td>\n",
       "      <td>0</td>\n",
       "      <td>1040</td>\n",
       "    </tr>\n",
       "    <tr>\n",
       "      <th>SqFtFinBasement</th>\n",
       "      <td>0</td>\n",
       "      <td>830</td>\n",
       "      <td>0</td>\n",
       "      <td>0</td>\n",
       "      <td>530</td>\n",
       "    </tr>\n",
       "    <tr>\n",
       "      <th>FinBasementGrade</th>\n",
       "      <td>0</td>\n",
       "      <td>9</td>\n",
       "      <td>0</td>\n",
       "      <td>0</td>\n",
       "      <td>7</td>\n",
       "    </tr>\n",
       "    <tr>\n",
       "      <th>SqFtGarageBasement</th>\n",
       "      <td>0</td>\n",
       "      <td>0</td>\n",
       "      <td>0</td>\n",
       "      <td>0</td>\n",
       "      <td>430</td>\n",
       "    </tr>\n",
       "    <tr>\n",
       "      <th>SqFtGarageAttached</th>\n",
       "      <td>0</td>\n",
       "      <td>480</td>\n",
       "      <td>552</td>\n",
       "      <td>690</td>\n",
       "      <td>0</td>\n",
       "    </tr>\n",
       "    <tr>\n",
       "      <th>DaylightBasement</th>\n",
       "      <td></td>\n",
       "      <td>Y</td>\n",
       "      <td>N</td>\n",
       "      <td>N</td>\n",
       "      <td></td>\n",
       "    </tr>\n",
       "    <tr>\n",
       "      <th>SqFtOpenPorch</th>\n",
       "      <td>80</td>\n",
       "      <td>0</td>\n",
       "      <td>336</td>\n",
       "      <td>120</td>\n",
       "      <td>0</td>\n",
       "    </tr>\n",
       "    <tr>\n",
       "      <th>SqFtEnclosedPorch</th>\n",
       "      <td>0</td>\n",
       "      <td>0</td>\n",
       "      <td>192</td>\n",
       "      <td>0</td>\n",
       "      <td>0</td>\n",
       "    </tr>\n",
       "    <tr>\n",
       "      <th>SqFtDeck</th>\n",
       "      <td>0</td>\n",
       "      <td>600</td>\n",
       "      <td>1028</td>\n",
       "      <td>980</td>\n",
       "      <td>100</td>\n",
       "    </tr>\n",
       "    <tr>\n",
       "      <th>HeatSystem</th>\n",
       "      <td>6</td>\n",
       "      <td>5</td>\n",
       "      <td>5</td>\n",
       "      <td>5</td>\n",
       "      <td>5</td>\n",
       "    </tr>\n",
       "    <tr>\n",
       "      <th>HeatSource</th>\n",
       "      <td>1</td>\n",
       "      <td>2</td>\n",
       "      <td>2</td>\n",
       "      <td>2</td>\n",
       "      <td>1</td>\n",
       "    </tr>\n",
       "    <tr>\n",
       "      <th>BrickStone</th>\n",
       "      <td>0</td>\n",
       "      <td>0</td>\n",
       "      <td>0</td>\n",
       "      <td>0</td>\n",
       "      <td>0</td>\n",
       "    </tr>\n",
       "    <tr>\n",
       "      <th>ViewUtilization</th>\n",
       "      <td></td>\n",
       "      <td>N</td>\n",
       "      <td>N</td>\n",
       "      <td>N</td>\n",
       "      <td></td>\n",
       "    </tr>\n",
       "    <tr>\n",
       "      <th>Bedrooms</th>\n",
       "      <td>2</td>\n",
       "      <td>3</td>\n",
       "      <td>3</td>\n",
       "      <td>5</td>\n",
       "      <td>3</td>\n",
       "    </tr>\n",
       "    <tr>\n",
       "      <th>BathHalfCount</th>\n",
       "      <td>0</td>\n",
       "      <td>1</td>\n",
       "      <td>1</td>\n",
       "      <td>1</td>\n",
       "      <td>0</td>\n",
       "    </tr>\n",
       "    <tr>\n",
       "      <th>Bath3qtrCount</th>\n",
       "      <td>0</td>\n",
       "      <td>0</td>\n",
       "      <td>1</td>\n",
       "      <td>0</td>\n",
       "      <td>0</td>\n",
       "    </tr>\n",
       "    <tr>\n",
       "      <th>BathFullCount</th>\n",
       "      <td>1</td>\n",
       "      <td>2</td>\n",
       "      <td>1</td>\n",
       "      <td>3</td>\n",
       "      <td>1</td>\n",
       "    </tr>\n",
       "    <tr>\n",
       "      <th>FpSingleStory</th>\n",
       "      <td>0</td>\n",
       "      <td>0</td>\n",
       "      <td>0</td>\n",
       "      <td>0</td>\n",
       "      <td>0</td>\n",
       "    </tr>\n",
       "    <tr>\n",
       "      <th>FpMultiStory</th>\n",
       "      <td>0</td>\n",
       "      <td>0</td>\n",
       "      <td>2</td>\n",
       "      <td>2</td>\n",
       "      <td>1</td>\n",
       "    </tr>\n",
       "    <tr>\n",
       "      <th>FpFreestanding</th>\n",
       "      <td>0</td>\n",
       "      <td>2</td>\n",
       "      <td>0</td>\n",
       "      <td>0</td>\n",
       "      <td>0</td>\n",
       "    </tr>\n",
       "    <tr>\n",
       "      <th>FpAdditional</th>\n",
       "      <td>0</td>\n",
       "      <td>0</td>\n",
       "      <td>0</td>\n",
       "      <td>1</td>\n",
       "      <td>1</td>\n",
       "    </tr>\n",
       "    <tr>\n",
       "      <th>YrBuilt</th>\n",
       "      <td>1922</td>\n",
       "      <td>1978</td>\n",
       "      <td>1970</td>\n",
       "      <td>1989</td>\n",
       "      <td>1967</td>\n",
       "    </tr>\n",
       "    <tr>\n",
       "      <th>YrRenovated</th>\n",
       "      <td>0</td>\n",
       "      <td>0</td>\n",
       "      <td>0</td>\n",
       "      <td>0</td>\n",
       "      <td>0</td>\n",
       "    </tr>\n",
       "    <tr>\n",
       "      <th>PcntComplete</th>\n",
       "      <td>0</td>\n",
       "      <td>0</td>\n",
       "      <td>0</td>\n",
       "      <td>0</td>\n",
       "      <td>0</td>\n",
       "    </tr>\n",
       "    <tr>\n",
       "      <th>Obsolescence</th>\n",
       "      <td>0</td>\n",
       "      <td>0</td>\n",
       "      <td>0</td>\n",
       "      <td>0</td>\n",
       "      <td>0</td>\n",
       "    </tr>\n",
       "    <tr>\n",
       "      <th>PcntNetCondition</th>\n",
       "      <td>0</td>\n",
       "      <td>0</td>\n",
       "      <td>0</td>\n",
       "      <td>0</td>\n",
       "      <td>0</td>\n",
       "    </tr>\n",
       "    <tr>\n",
       "      <th>Condition</th>\n",
       "      <td>3</td>\n",
       "      <td>4</td>\n",
       "      <td>4</td>\n",
       "      <td>3</td>\n",
       "      <td>3</td>\n",
       "    </tr>\n",
       "    <tr>\n",
       "      <th>AddnlCost</th>\n",
       "      <td>0</td>\n",
       "      <td>0</td>\n",
       "      <td>0</td>\n",
       "      <td>20000</td>\n",
       "      <td>0</td>\n",
       "    </tr>\n",
       "  </tbody>\n",
       "</table>\n",
       "</div>"
      ],
      "text/plain": [
       "                                            0                            1  \\\n",
       "Major                                    4300                         4610   \n",
       "Minor                                     167                          399   \n",
       "BldgNbr                                     1                            1   \n",
       "NbrLivingUnits                              1                            1   \n",
       "Address             15223   40TH AVE S  98188  4431   FERNCROFT RD   98040   \n",
       "BuildingNumber                          15223                        4431    \n",
       "Fraction                                                                     \n",
       "DirectionPrefix                                                              \n",
       "StreetName          40TH                         FERNCROFT                   \n",
       "StreetType                             AVE                          RD       \n",
       "DirectionSuffix                            S                                 \n",
       "ZipCode                                 98188                        98040   \n",
       "Stories                                     1                            2   \n",
       "BldgGrade                                   6                            9   \n",
       "BldgGradeVar                                0                            0   \n",
       "SqFt1stFloor                              990                          980   \n",
       "SqFtHalfFloor                               0                            0   \n",
       "SqFt2ndFloor                                0                         1140   \n",
       "SqFtUpperFloor                              0                            0   \n",
       "SqFtUnfinFull                               0                            0   \n",
       "SqFtUnfinHalf                               0                            0   \n",
       "SqFtTotLiving                             990                         2950   \n",
       "SqFtTotBasement                           990                          940   \n",
       "SqFtFinBasement                             0                          830   \n",
       "FinBasementGrade                            0                            9   \n",
       "SqFtGarageBasement                          0                            0   \n",
       "SqFtGarageAttached                          0                          480   \n",
       "DaylightBasement                                                         Y   \n",
       "SqFtOpenPorch                              80                            0   \n",
       "SqFtEnclosedPorch                           0                            0   \n",
       "SqFtDeck                                    0                          600   \n",
       "HeatSystem                                  6                            5   \n",
       "HeatSource                                  1                            2   \n",
       "BrickStone                                  0                            0   \n",
       "ViewUtilization                                                          N   \n",
       "Bedrooms                                    2                            3   \n",
       "BathHalfCount                               0                            1   \n",
       "Bath3qtrCount                               0                            0   \n",
       "BathFullCount                               1                            2   \n",
       "FpSingleStory                               0                            0   \n",
       "FpMultiStory                                0                            0   \n",
       "FpFreestanding                              0                            2   \n",
       "FpAdditional                                0                            0   \n",
       "YrBuilt                                  1922                         1978   \n",
       "YrRenovated                                 0                            0   \n",
       "PcntComplete                                0                            0   \n",
       "Obsolescence                                0                            0   \n",
       "PcntNetCondition                            0                            0   \n",
       "Condition                                   3                            4   \n",
       "AddnlCost                                   0                            0   \n",
       "\n",
       "                                              2                            3  \\\n",
       "Major                                      4610                         4610   \n",
       "Minor                                       503                          505   \n",
       "BldgNbr                                       1                            1   \n",
       "NbrLivingUnits                                1                            1   \n",
       "Address             4516   FERNCROFT RD   98040  4538   FERNCROFT RD   98040   \n",
       "BuildingNumber                            4516                         4538    \n",
       "Fraction                                                                       \n",
       "DirectionPrefix                                                                \n",
       "StreetName            FERNCROFT                    FERNCROFT                   \n",
       "StreetType                               RD                           RD       \n",
       "DirectionSuffix                                                                \n",
       "ZipCode                                   98040                        98040   \n",
       "Stories                                       2                            2   \n",
       "BldgGrade                                     9                           11   \n",
       "BldgGradeVar                                  0                            0   \n",
       "SqFt1stFloor                               1916                         2250   \n",
       "SqFtHalfFloor                                 0                            0   \n",
       "SqFt2ndFloor                               1473                         1850   \n",
       "SqFtUpperFloor                                0                            0   \n",
       "SqFtUnfinFull                                 0                            0   \n",
       "SqFtUnfinHalf                                 0                            0   \n",
       "SqFtTotLiving                              3389                         4100   \n",
       "SqFtTotBasement                               0                            0   \n",
       "SqFtFinBasement                               0                            0   \n",
       "FinBasementGrade                              0                            0   \n",
       "SqFtGarageBasement                            0                            0   \n",
       "SqFtGarageAttached                          552                          690   \n",
       "DaylightBasement                              N                            N   \n",
       "SqFtOpenPorch                               336                          120   \n",
       "SqFtEnclosedPorch                           192                            0   \n",
       "SqFtDeck                                   1028                          980   \n",
       "HeatSystem                                    5                            5   \n",
       "HeatSource                                    2                            2   \n",
       "BrickStone                                    0                            0   \n",
       "ViewUtilization                               N                            N   \n",
       "Bedrooms                                      3                            5   \n",
       "BathHalfCount                                 1                            1   \n",
       "Bath3qtrCount                                 1                            0   \n",
       "BathFullCount                                 1                            3   \n",
       "FpSingleStory                                 0                            0   \n",
       "FpMultiStory                                  2                            2   \n",
       "FpFreestanding                                0                            0   \n",
       "FpAdditional                                  0                            1   \n",
       "YrBuilt                                    1970                         1989   \n",
       "YrRenovated                                   0                            0   \n",
       "PcntComplete                                  0                            0   \n",
       "Obsolescence                                  0                            0   \n",
       "PcntNetCondition                              0                            0   \n",
       "Condition                                     4                            3   \n",
       "AddnlCost                                     0                        20000   \n",
       "\n",
       "                                            4  \n",
       "Major                                    4900  \n",
       "Minor                                      56  \n",
       "BldgNbr                                     1  \n",
       "NbrLivingUnits                              1  \n",
       "Address             3015  SW 105TH ST   98146  \n",
       "BuildingNumber                          3015   \n",
       "Fraction                                       \n",
       "DirectionPrefix                            SW  \n",
       "StreetName          105TH                      \n",
       "StreetType                             ST      \n",
       "DirectionSuffix                                \n",
       "ZipCode                                 98146  \n",
       "Stories                                     1  \n",
       "BldgGrade                                   7  \n",
       "BldgGradeVar                                0  \n",
       "SqFt1stFloor                             1040  \n",
       "SqFtHalfFloor                               0  \n",
       "SqFt2ndFloor                                0  \n",
       "SqFtUpperFloor                              0  \n",
       "SqFtUnfinFull                               0  \n",
       "SqFtUnfinHalf                               0  \n",
       "SqFtTotLiving                            1570  \n",
       "SqFtTotBasement                          1040  \n",
       "SqFtFinBasement                           530  \n",
       "FinBasementGrade                            7  \n",
       "SqFtGarageBasement                        430  \n",
       "SqFtGarageAttached                          0  \n",
       "DaylightBasement                               \n",
       "SqFtOpenPorch                               0  \n",
       "SqFtEnclosedPorch                           0  \n",
       "SqFtDeck                                  100  \n",
       "HeatSystem                                  5  \n",
       "HeatSource                                  1  \n",
       "BrickStone                                  0  \n",
       "ViewUtilization                                \n",
       "Bedrooms                                    3  \n",
       "BathHalfCount                               0  \n",
       "Bath3qtrCount                               0  \n",
       "BathFullCount                               1  \n",
       "FpSingleStory                               0  \n",
       "FpMultiStory                                1  \n",
       "FpFreestanding                              0  \n",
       "FpAdditional                                1  \n",
       "YrBuilt                                  1967  \n",
       "YrRenovated                                 0  \n",
       "PcntComplete                                0  \n",
       "Obsolescence                                0  \n",
       "PcntNetCondition                            0  \n",
       "Condition                                   3  \n",
       "AddnlCost                                   0  "
      ]
     },
     "execution_count": 8,
     "metadata": {},
     "output_type": "execute_result"
    }
   ],
   "source": [
    "bldg_df.head().T"
   ]
  },
  {
   "cell_type": "markdown",
   "metadata": {},
   "source": [
    "### So many features!\n",
    "\n",
    "As data scientists, we should be _very_ cautious about discarding potentially useful data. But, today, we're interested in _only_ the total square footage of each property. What can we do?\n"
   ]
  },
  {
   "cell_type": "code",
   "execution_count": 9,
   "metadata": {},
   "outputs": [],
   "source": [
    "bldg_df = bldg_df[['Major', 'Minor', 'SqFtTotLiving', 'ZipCode']]"
   ]
  },
  {
   "cell_type": "code",
   "execution_count": 10,
   "metadata": {
    "scrolled": true
   },
   "outputs": [
    {
     "name": "stdout",
     "output_type": "stream",
     "text": [
      "<class 'pandas.core.frame.DataFrame'>\n",
      "RangeIndex: 511412 entries, 0 to 511411\n",
      "Data columns (total 4 columns):\n",
      "Major            511412 non-null int64\n",
      "Minor            511412 non-null int64\n",
      "SqFtTotLiving    511412 non-null int64\n",
      "ZipCode          468372 non-null object\n",
      "dtypes: int64(3), object(1)\n",
      "memory usage: 15.6+ MB\n"
     ]
    }
   ],
   "source": [
    "bldg_df.info()"
   ]
  },
  {
   "cell_type": "code",
   "execution_count": 11,
   "metadata": {},
   "outputs": [
    {
     "ename": "ValueError",
     "evalue": "You are trying to merge on object and int64 columns. If you wish to proceed you should use pd.concat",
     "output_type": "error",
     "traceback": [
      "\u001b[0;31m---------------------------------------------------------------------------\u001b[0m",
      "\u001b[0;31mValueError\u001b[0m                                Traceback (most recent call last)",
      "\u001b[0;32m<ipython-input-11-764b2d8a2609>\u001b[0m in \u001b[0;36m<module>\u001b[0;34m\u001b[0m\n\u001b[0;32m----> 1\u001b[0;31m \u001b[0msales_data\u001b[0m \u001b[0;34m=\u001b[0m \u001b[0mpd\u001b[0m\u001b[0;34m.\u001b[0m\u001b[0mmerge\u001b[0m\u001b[0;34m(\u001b[0m\u001b[0msales_df\u001b[0m\u001b[0;34m,\u001b[0m \u001b[0mbldg_df\u001b[0m\u001b[0;34m,\u001b[0m \u001b[0mon\u001b[0m\u001b[0;34m=\u001b[0m\u001b[0;34m[\u001b[0m\u001b[0;34m'Major'\u001b[0m\u001b[0;34m,\u001b[0m \u001b[0;34m'Minor'\u001b[0m\u001b[0;34m]\u001b[0m\u001b[0;34m)\u001b[0m\u001b[0;34m\u001b[0m\u001b[0;34m\u001b[0m\u001b[0m\n\u001b[0m",
      "\u001b[0;32m~/anaconda3/lib/python3.7/site-packages/pandas/core/reshape/merge.py\u001b[0m in \u001b[0;36mmerge\u001b[0;34m(left, right, how, on, left_on, right_on, left_index, right_index, sort, suffixes, copy, indicator, validate)\u001b[0m\n\u001b[1;32m     59\u001b[0m                          \u001b[0mright_index\u001b[0m\u001b[0;34m=\u001b[0m\u001b[0mright_index\u001b[0m\u001b[0;34m,\u001b[0m \u001b[0msort\u001b[0m\u001b[0;34m=\u001b[0m\u001b[0msort\u001b[0m\u001b[0;34m,\u001b[0m \u001b[0msuffixes\u001b[0m\u001b[0;34m=\u001b[0m\u001b[0msuffixes\u001b[0m\u001b[0;34m,\u001b[0m\u001b[0;34m\u001b[0m\u001b[0;34m\u001b[0m\u001b[0m\n\u001b[1;32m     60\u001b[0m                          \u001b[0mcopy\u001b[0m\u001b[0;34m=\u001b[0m\u001b[0mcopy\u001b[0m\u001b[0;34m,\u001b[0m \u001b[0mindicator\u001b[0m\u001b[0;34m=\u001b[0m\u001b[0mindicator\u001b[0m\u001b[0;34m,\u001b[0m\u001b[0;34m\u001b[0m\u001b[0;34m\u001b[0m\u001b[0m\n\u001b[0;32m---> 61\u001b[0;31m                          validate=validate)\n\u001b[0m\u001b[1;32m     62\u001b[0m     \u001b[0;32mreturn\u001b[0m \u001b[0mop\u001b[0m\u001b[0;34m.\u001b[0m\u001b[0mget_result\u001b[0m\u001b[0;34m(\u001b[0m\u001b[0;34m)\u001b[0m\u001b[0;34m\u001b[0m\u001b[0;34m\u001b[0m\u001b[0m\n\u001b[1;32m     63\u001b[0m \u001b[0;34m\u001b[0m\u001b[0m\n",
      "\u001b[0;32m~/anaconda3/lib/python3.7/site-packages/pandas/core/reshape/merge.py\u001b[0m in \u001b[0;36m__init__\u001b[0;34m(self, left, right, how, on, left_on, right_on, axis, left_index, right_index, sort, suffixes, copy, indicator, validate)\u001b[0m\n\u001b[1;32m    553\u001b[0m         \u001b[0;31m# validate the merge keys dtypes. We may need to coerce\u001b[0m\u001b[0;34m\u001b[0m\u001b[0;34m\u001b[0m\u001b[0;34m\u001b[0m\u001b[0m\n\u001b[1;32m    554\u001b[0m         \u001b[0;31m# to avoid incompat dtypes\u001b[0m\u001b[0;34m\u001b[0m\u001b[0;34m\u001b[0m\u001b[0;34m\u001b[0m\u001b[0m\n\u001b[0;32m--> 555\u001b[0;31m         \u001b[0mself\u001b[0m\u001b[0;34m.\u001b[0m\u001b[0m_maybe_coerce_merge_keys\u001b[0m\u001b[0;34m(\u001b[0m\u001b[0;34m)\u001b[0m\u001b[0;34m\u001b[0m\u001b[0;34m\u001b[0m\u001b[0m\n\u001b[0m\u001b[1;32m    556\u001b[0m \u001b[0;34m\u001b[0m\u001b[0m\n\u001b[1;32m    557\u001b[0m         \u001b[0;31m# If argument passed to validate,\u001b[0m\u001b[0;34m\u001b[0m\u001b[0;34m\u001b[0m\u001b[0;34m\u001b[0m\u001b[0m\n",
      "\u001b[0;32m~/anaconda3/lib/python3.7/site-packages/pandas/core/reshape/merge.py\u001b[0m in \u001b[0;36m_maybe_coerce_merge_keys\u001b[0;34m(self)\u001b[0m\n\u001b[1;32m    984\u001b[0m             elif (not is_numeric_dtype(lk)\n\u001b[1;32m    985\u001b[0m                     and (is_numeric_dtype(rk) and not is_bool_dtype(rk))):\n\u001b[0;32m--> 986\u001b[0;31m                 \u001b[0;32mraise\u001b[0m \u001b[0mValueError\u001b[0m\u001b[0;34m(\u001b[0m\u001b[0mmsg\u001b[0m\u001b[0;34m)\u001b[0m\u001b[0;34m\u001b[0m\u001b[0;34m\u001b[0m\u001b[0m\n\u001b[0m\u001b[1;32m    987\u001b[0m             \u001b[0;32melif\u001b[0m \u001b[0mis_datetimelike\u001b[0m\u001b[0;34m(\u001b[0m\u001b[0mlk\u001b[0m\u001b[0;34m)\u001b[0m \u001b[0;32mand\u001b[0m \u001b[0;32mnot\u001b[0m \u001b[0mis_datetimelike\u001b[0m\u001b[0;34m(\u001b[0m\u001b[0mrk\u001b[0m\u001b[0;34m)\u001b[0m\u001b[0;34m:\u001b[0m\u001b[0;34m\u001b[0m\u001b[0;34m\u001b[0m\u001b[0m\n\u001b[1;32m    988\u001b[0m                 \u001b[0;32mraise\u001b[0m \u001b[0mValueError\u001b[0m\u001b[0;34m(\u001b[0m\u001b[0mmsg\u001b[0m\u001b[0;34m)\u001b[0m\u001b[0;34m\u001b[0m\u001b[0;34m\u001b[0m\u001b[0m\n",
      "\u001b[0;31mValueError\u001b[0m: You are trying to merge on object and int64 columns. If you wish to proceed you should use pd.concat"
     ]
    }
   ],
   "source": [
    "sales_data = pd.merge(sales_df, bldg_df, on=['Major', 'Minor'])"
   ]
  },
  {
   "cell_type": "markdown",
   "metadata": {},
   "source": [
    "### Error!\n",
    "\n",
    "Why are we seeing an error when we try to join the dataframes?\n",
    "\n",
    "<table>\n",
    "    <tr>\n",
    "        <td style=\"text-align:left\"><pre>\n",
    "<class 'pandas.core.frame.DataFrame'>\n",
    "RangeIndex: 2013160 entries, 0 to 2013159\n",
    "Data columns (total 4 columns):\n",
    "Major           object\n",
    "Minor           object\n",
    "DocumentDate    object\n",
    "SalePrice       int64\n",
    "dtypes: int64(1), object(3)\n",
    "memory usage: 61.4+ MB</pre></td>\n",
    "        <td style=\"text-align:left\"><pre>\n",
    "<class 'pandas.core.frame.DataFrame'>\n",
    "RangeIndex: 511359 entries, 0 to 511358\n",
    "Data columns (total 4 columns):\n",
    "Major            511359 non-null int64\n",
    "Minor            511359 non-null int64\n",
    "SqFtTotLiving    511359 non-null int64\n",
    "ZipCode          468345 non-null object\n",
    "dtypes: int64(3), object(1)\n",
    "memory usage: 15.6+ MB\n",
    "</pre></td>\n",
    "    </tr>\n",
    "</table>\n",
    "\n",
    "Review the error message in light of the above:\n",
    "\n",
    "* `ValueError: You are trying to merge on object and int64 columns.`"
   ]
  },
  {
   "cell_type": "code",
   "execution_count": 12,
   "metadata": {},
   "outputs": [],
   "source": [
    "#This will put the Major data into floats, so we can make empty values into NANs\n",
    "sales_df['Major'] = pd.to_numeric(sales_df['Major'], errors = \"coerce\")"
   ]
  },
  {
   "cell_type": "markdown",
   "metadata": {},
   "source": [
    "### Error!\n",
    "\n",
    "Note the useful error message above:\n",
    "\n",
    "`ValueError: Unable to parse string \"      \" at position 936643`\n",
    "\n",
    "In this case, we want to treat non-numeric values as missing values. Let's see if there's a way to change how the `pd.to_numeric` function handles errors."
   ]
  },
  {
   "cell_type": "code",
   "execution_count": 13,
   "metadata": {},
   "outputs": [],
   "source": [
    "# The single question mark means \"show me the docstring\"\n",
    "# pd.to_numeric?"
   ]
  },
  {
   "cell_type": "markdown",
   "metadata": {},
   "source": [
    "Here's the part that we're looking for:\n",
    "```\n",
    "errors : {'ignore', 'raise', 'coerce'}, default 'raise'\n",
    "    - If 'raise', then invalid parsing will raise an exception\n",
    "    - If 'coerce', then invalid parsing will be set as NaN\n",
    "    - If 'ignore', then invalid parsing will return the input\n",
    "```\n",
    "\n",
    "Let's try setting the `errors` parameter to `'coerce'`."
   ]
  },
  {
   "cell_type": "code",
   "execution_count": 13,
   "metadata": {},
   "outputs": [],
   "source": [
    "sales_df['Major'] = pd.to_numeric(sales_df['Major'], errors='coerce')"
   ]
  },
  {
   "cell_type": "markdown",
   "metadata": {},
   "source": [
    "Did it work?"
   ]
  },
  {
   "cell_type": "code",
   "execution_count": 14,
   "metadata": {},
   "outputs": [
    {
     "name": "stdout",
     "output_type": "stream",
     "text": [
      "<class 'pandas.core.frame.DataFrame'>\n",
      "RangeIndex: 2014336 entries, 0 to 2014335\n",
      "Data columns (total 4 columns):\n",
      "Major           float64\n",
      "Minor           object\n",
      "DocumentDate    object\n",
      "SalePrice       int64\n",
      "dtypes: float64(1), int64(1), object(2)\n",
      "memory usage: 61.5+ MB\n"
     ]
    }
   ],
   "source": [
    "sales_df.info()"
   ]
  },
  {
   "cell_type": "markdown",
   "metadata": {},
   "source": [
    "It worked! Let's do the same thing with the `Minor` parcel number."
   ]
  },
  {
   "cell_type": "code",
   "execution_count": 15,
   "metadata": {},
   "outputs": [],
   "source": [
    "sales_df['Minor'] = pd.to_numeric(sales_df['Minor'], errors='coerce')"
   ]
  },
  {
   "cell_type": "code",
   "execution_count": 16,
   "metadata": {},
   "outputs": [
    {
     "name": "stdout",
     "output_type": "stream",
     "text": [
      "<class 'pandas.core.frame.DataFrame'>\n",
      "RangeIndex: 2014336 entries, 0 to 2014335\n",
      "Data columns (total 4 columns):\n",
      "Major           float64\n",
      "Minor           float64\n",
      "DocumentDate    object\n",
      "SalePrice       int64\n",
      "dtypes: float64(2), int64(1), object(1)\n",
      "memory usage: 61.5+ MB\n"
     ]
    }
   ],
   "source": [
    "sales_df.info()"
   ]
  },
  {
   "cell_type": "markdown",
   "metadata": {},
   "source": [
    "Now, let's try our join again."
   ]
  },
  {
   "cell_type": "code",
   "execution_count": 17,
   "metadata": {},
   "outputs": [],
   "source": [
    "sales_data = pd.merge(sales_df, bldg_df, on=['Major', 'Minor'])"
   ]
  },
  {
   "cell_type": "code",
   "execution_count": 18,
   "metadata": {},
   "outputs": [
    {
     "data": {
      "text/html": [
       "<div>\n",
       "<style scoped>\n",
       "    .dataframe tbody tr th:only-of-type {\n",
       "        vertical-align: middle;\n",
       "    }\n",
       "\n",
       "    .dataframe tbody tr th {\n",
       "        vertical-align: top;\n",
       "    }\n",
       "\n",
       "    .dataframe thead th {\n",
       "        text-align: right;\n",
       "    }\n",
       "</style>\n",
       "<table border=\"1\" class=\"dataframe\">\n",
       "  <thead>\n",
       "    <tr style=\"text-align: right;\">\n",
       "      <th></th>\n",
       "      <th>Major</th>\n",
       "      <th>Minor</th>\n",
       "      <th>DocumentDate</th>\n",
       "      <th>SalePrice</th>\n",
       "      <th>SqFtTotLiving</th>\n",
       "      <th>ZipCode</th>\n",
       "    </tr>\n",
       "  </thead>\n",
       "  <tbody>\n",
       "    <tr>\n",
       "      <th>0</th>\n",
       "      <td>138860.0</td>\n",
       "      <td>110.0</td>\n",
       "      <td>08/21/2014</td>\n",
       "      <td>245000</td>\n",
       "      <td>1490</td>\n",
       "      <td>98002</td>\n",
       "    </tr>\n",
       "    <tr>\n",
       "      <th>1</th>\n",
       "      <td>138860.0</td>\n",
       "      <td>110.0</td>\n",
       "      <td>06/12/1989</td>\n",
       "      <td>109300</td>\n",
       "      <td>1490</td>\n",
       "      <td>98002</td>\n",
       "    </tr>\n",
       "    <tr>\n",
       "      <th>2</th>\n",
       "      <td>138860.0</td>\n",
       "      <td>110.0</td>\n",
       "      <td>01/16/2005</td>\n",
       "      <td>14684</td>\n",
       "      <td>1490</td>\n",
       "      <td>98002</td>\n",
       "    </tr>\n",
       "    <tr>\n",
       "      <th>3</th>\n",
       "      <td>138860.0</td>\n",
       "      <td>110.0</td>\n",
       "      <td>06/08/2005</td>\n",
       "      <td>0</td>\n",
       "      <td>1490</td>\n",
       "      <td>98002</td>\n",
       "    </tr>\n",
       "    <tr>\n",
       "      <th>4</th>\n",
       "      <td>423943.0</td>\n",
       "      <td>50.0</td>\n",
       "      <td>10/11/2014</td>\n",
       "      <td>0</td>\n",
       "      <td>960</td>\n",
       "      <td>98092</td>\n",
       "    </tr>\n",
       "  </tbody>\n",
       "</table>\n",
       "</div>"
      ],
      "text/plain": [
       "      Major  Minor DocumentDate  SalePrice  SqFtTotLiving ZipCode\n",
       "0  138860.0  110.0   08/21/2014     245000           1490   98002\n",
       "1  138860.0  110.0   06/12/1989     109300           1490   98002\n",
       "2  138860.0  110.0   01/16/2005      14684           1490   98002\n",
       "3  138860.0  110.0   06/08/2005          0           1490   98002\n",
       "4  423943.0   50.0   10/11/2014          0            960   98092"
      ]
     },
     "execution_count": 18,
     "metadata": {},
     "output_type": "execute_result"
    }
   ],
   "source": [
    "sales_data.head()"
   ]
  },
  {
   "cell_type": "code",
   "execution_count": 19,
   "metadata": {},
   "outputs": [
    {
     "name": "stdout",
     "output_type": "stream",
     "text": [
      "<class 'pandas.core.frame.DataFrame'>\n",
      "Int64Index: 1437522 entries, 0 to 1437521\n",
      "Data columns (total 6 columns):\n",
      "Major            1437522 non-null float64\n",
      "Minor            1437522 non-null float64\n",
      "DocumentDate     1437522 non-null object\n",
      "SalePrice        1437522 non-null int64\n",
      "SqFtTotLiving    1437522 non-null int64\n",
      "ZipCode          1322148 non-null object\n",
      "dtypes: float64(2), int64(2), object(2)\n",
      "memory usage: 76.8+ MB\n"
     ]
    }
   ],
   "source": [
    "sales_data.info()"
   ]
  },
  {
   "cell_type": "markdown",
   "metadata": {},
   "source": [
    "We can see right away that we're missing zip codes for many of the sales transactions. (1321536 non-null entries for ZipCode is fewer than the 1436772 entries in the dataframe.) "
   ]
  },
  {
   "cell_type": "code",
   "execution_count": 20,
   "metadata": {},
   "outputs": [
    {
     "data": {
      "text/html": [
       "<div>\n",
       "<style scoped>\n",
       "    .dataframe tbody tr th:only-of-type {\n",
       "        vertical-align: middle;\n",
       "    }\n",
       "\n",
       "    .dataframe tbody tr th {\n",
       "        vertical-align: top;\n",
       "    }\n",
       "\n",
       "    .dataframe thead th {\n",
       "        text-align: right;\n",
       "    }\n",
       "</style>\n",
       "<table border=\"1\" class=\"dataframe\">\n",
       "  <thead>\n",
       "    <tr style=\"text-align: right;\">\n",
       "      <th></th>\n",
       "      <th>Major</th>\n",
       "      <th>Minor</th>\n",
       "      <th>DocumentDate</th>\n",
       "      <th>SalePrice</th>\n",
       "      <th>SqFtTotLiving</th>\n",
       "      <th>ZipCode</th>\n",
       "    </tr>\n",
       "  </thead>\n",
       "  <tbody>\n",
       "    <tr>\n",
       "      <th>99</th>\n",
       "      <td>858140.0</td>\n",
       "      <td>376.0</td>\n",
       "      <td>05/22/2012</td>\n",
       "      <td>0</td>\n",
       "      <td>900</td>\n",
       "      <td>NaN</td>\n",
       "    </tr>\n",
       "    <tr>\n",
       "      <th>100</th>\n",
       "      <td>858140.0</td>\n",
       "      <td>376.0</td>\n",
       "      <td>11/28/2017</td>\n",
       "      <td>0</td>\n",
       "      <td>900</td>\n",
       "      <td>NaN</td>\n",
       "    </tr>\n",
       "    <tr>\n",
       "      <th>152</th>\n",
       "      <td>720319.0</td>\n",
       "      <td>520.0</td>\n",
       "      <td>11/20/2013</td>\n",
       "      <td>699950</td>\n",
       "      <td>2840</td>\n",
       "      <td>NaN</td>\n",
       "    </tr>\n",
       "    <tr>\n",
       "      <th>153</th>\n",
       "      <td>720319.0</td>\n",
       "      <td>520.0</td>\n",
       "      <td>09/16/2013</td>\n",
       "      <td>0</td>\n",
       "      <td>2840</td>\n",
       "      <td>NaN</td>\n",
       "    </tr>\n",
       "    <tr>\n",
       "      <th>163</th>\n",
       "      <td>894677.0</td>\n",
       "      <td>240.0</td>\n",
       "      <td>12/21/2016</td>\n",
       "      <td>818161</td>\n",
       "      <td>2450</td>\n",
       "      <td>NaN</td>\n",
       "    </tr>\n",
       "  </tbody>\n",
       "</table>\n",
       "</div>"
      ],
      "text/plain": [
       "        Major  Minor DocumentDate  SalePrice  SqFtTotLiving ZipCode\n",
       "99   858140.0  376.0   05/22/2012          0            900     NaN\n",
       "100  858140.0  376.0   11/28/2017          0            900     NaN\n",
       "152  720319.0  520.0   11/20/2013     699950           2840     NaN\n",
       "153  720319.0  520.0   09/16/2013          0           2840     NaN\n",
       "163  894677.0  240.0   12/21/2016     818161           2450     NaN"
      ]
     },
     "execution_count": 20,
     "metadata": {},
     "output_type": "execute_result"
    }
   ],
   "source": [
    "sales_data.loc[sales_data['ZipCode'].isna()].head()"
   ]
  },
  {
   "cell_type": "markdown",
   "metadata": {},
   "source": [
    "Because we are interested in finding houses in Seattle zip codes, we will need to drop the rows with missing zip codes."
   ]
  },
  {
   "cell_type": "code",
   "execution_count": 21,
   "metadata": {},
   "outputs": [
    {
     "data": {
      "text/html": [
       "<div>\n",
       "<style scoped>\n",
       "    .dataframe tbody tr th:only-of-type {\n",
       "        vertical-align: middle;\n",
       "    }\n",
       "\n",
       "    .dataframe tbody tr th {\n",
       "        vertical-align: top;\n",
       "    }\n",
       "\n",
       "    .dataframe thead th {\n",
       "        text-align: right;\n",
       "    }\n",
       "</style>\n",
       "<table border=\"1\" class=\"dataframe\">\n",
       "  <thead>\n",
       "    <tr style=\"text-align: right;\">\n",
       "      <th></th>\n",
       "      <th>Major</th>\n",
       "      <th>Minor</th>\n",
       "      <th>DocumentDate</th>\n",
       "      <th>SalePrice</th>\n",
       "      <th>SqFtTotLiving</th>\n",
       "      <th>ZipCode</th>\n",
       "    </tr>\n",
       "  </thead>\n",
       "  <tbody>\n",
       "    <tr>\n",
       "      <th>0</th>\n",
       "      <td>138860.0</td>\n",
       "      <td>110.0</td>\n",
       "      <td>08/21/2014</td>\n",
       "      <td>245000</td>\n",
       "      <td>1490</td>\n",
       "      <td>98002</td>\n",
       "    </tr>\n",
       "    <tr>\n",
       "      <th>1</th>\n",
       "      <td>138860.0</td>\n",
       "      <td>110.0</td>\n",
       "      <td>06/12/1989</td>\n",
       "      <td>109300</td>\n",
       "      <td>1490</td>\n",
       "      <td>98002</td>\n",
       "    </tr>\n",
       "    <tr>\n",
       "      <th>2</th>\n",
       "      <td>138860.0</td>\n",
       "      <td>110.0</td>\n",
       "      <td>01/16/2005</td>\n",
       "      <td>14684</td>\n",
       "      <td>1490</td>\n",
       "      <td>98002</td>\n",
       "    </tr>\n",
       "    <tr>\n",
       "      <th>3</th>\n",
       "      <td>138860.0</td>\n",
       "      <td>110.0</td>\n",
       "      <td>06/08/2005</td>\n",
       "      <td>0</td>\n",
       "      <td>1490</td>\n",
       "      <td>98002</td>\n",
       "    </tr>\n",
       "    <tr>\n",
       "      <th>4</th>\n",
       "      <td>423943.0</td>\n",
       "      <td>50.0</td>\n",
       "      <td>10/11/2014</td>\n",
       "      <td>0</td>\n",
       "      <td>960</td>\n",
       "      <td>98092</td>\n",
       "    </tr>\n",
       "  </tbody>\n",
       "</table>\n",
       "</div>"
      ],
      "text/plain": [
       "      Major  Minor DocumentDate  SalePrice  SqFtTotLiving ZipCode\n",
       "0  138860.0  110.0   08/21/2014     245000           1490   98002\n",
       "1  138860.0  110.0   06/12/1989     109300           1490   98002\n",
       "2  138860.0  110.0   01/16/2005      14684           1490   98002\n",
       "3  138860.0  110.0   06/08/2005          0           1490   98002\n",
       "4  423943.0   50.0   10/11/2014          0            960   98092"
      ]
     },
     "execution_count": 21,
     "metadata": {},
     "output_type": "execute_result"
    }
   ],
   "source": [
    "sales_data = sales_data.loc[~sales_data['ZipCode'].isna(), :]\n",
    "\n",
    "sales_data.head()"
   ]
  },
  {
   "cell_type": "markdown",
   "metadata": {},
   "source": [
    "# Your turn: Data Cleaning with Pandas"
   ]
  },
  {
   "cell_type": "markdown",
   "metadata": {},
   "source": [
    "### 1. Investigate and drop rows with invalid values in the SalePrice and SqFtTotLiving columns.\n",
    "\n",
    "Use multiple notebook cells to accomplish this! Press `[esc]` then `B` to create a new cell below the current cell. Press `[return]` to start typing in the new cell."
   ]
  },
  {
   "cell_type": "code",
   "execution_count": 22,
   "metadata": {},
   "outputs": [],
   "source": [
    "dummy_sales_data = sales_data"
   ]
  },
  {
   "cell_type": "code",
   "execution_count": 23,
   "metadata": {
    "scrolled": true
   },
   "outputs": [
    {
     "data": {
      "text/html": [
       "<div>\n",
       "<style scoped>\n",
       "    .dataframe tbody tr th:only-of-type {\n",
       "        vertical-align: middle;\n",
       "    }\n",
       "\n",
       "    .dataframe tbody tr th {\n",
       "        vertical-align: top;\n",
       "    }\n",
       "\n",
       "    .dataframe thead th {\n",
       "        text-align: right;\n",
       "    }\n",
       "</style>\n",
       "<table border=\"1\" class=\"dataframe\">\n",
       "  <thead>\n",
       "    <tr style=\"text-align: right;\">\n",
       "      <th></th>\n",
       "      <th>Major</th>\n",
       "      <th>Minor</th>\n",
       "      <th>DocumentDate</th>\n",
       "      <th>SalePrice</th>\n",
       "      <th>SqFtTotLiving</th>\n",
       "      <th>ZipCode</th>\n",
       "    </tr>\n",
       "  </thead>\n",
       "  <tbody>\n",
       "    <tr>\n",
       "      <th>0</th>\n",
       "      <td>138860.0</td>\n",
       "      <td>110.0</td>\n",
       "      <td>08/21/2014</td>\n",
       "      <td>245000</td>\n",
       "      <td>1490</td>\n",
       "      <td>98002</td>\n",
       "    </tr>\n",
       "    <tr>\n",
       "      <th>1</th>\n",
       "      <td>138860.0</td>\n",
       "      <td>110.0</td>\n",
       "      <td>06/12/1989</td>\n",
       "      <td>109300</td>\n",
       "      <td>1490</td>\n",
       "      <td>98002</td>\n",
       "    </tr>\n",
       "    <tr>\n",
       "      <th>2</th>\n",
       "      <td>138860.0</td>\n",
       "      <td>110.0</td>\n",
       "      <td>01/16/2005</td>\n",
       "      <td>14684</td>\n",
       "      <td>1490</td>\n",
       "      <td>98002</td>\n",
       "    </tr>\n",
       "    <tr>\n",
       "      <th>3</th>\n",
       "      <td>138860.0</td>\n",
       "      <td>110.0</td>\n",
       "      <td>06/08/2005</td>\n",
       "      <td>0</td>\n",
       "      <td>1490</td>\n",
       "      <td>98002</td>\n",
       "    </tr>\n",
       "    <tr>\n",
       "      <th>4</th>\n",
       "      <td>423943.0</td>\n",
       "      <td>50.0</td>\n",
       "      <td>10/11/2014</td>\n",
       "      <td>0</td>\n",
       "      <td>960</td>\n",
       "      <td>98092</td>\n",
       "    </tr>\n",
       "  </tbody>\n",
       "</table>\n",
       "</div>"
      ],
      "text/plain": [
       "      Major  Minor DocumentDate  SalePrice  SqFtTotLiving ZipCode\n",
       "0  138860.0  110.0   08/21/2014     245000           1490   98002\n",
       "1  138860.0  110.0   06/12/1989     109300           1490   98002\n",
       "2  138860.0  110.0   01/16/2005      14684           1490   98002\n",
       "3  138860.0  110.0   06/08/2005          0           1490   98002\n",
       "4  423943.0   50.0   10/11/2014          0            960   98092"
      ]
     },
     "execution_count": 23,
     "metadata": {},
     "output_type": "execute_result"
    }
   ],
   "source": [
    "dummy_sales_data.head()"
   ]
  },
  {
   "cell_type": "markdown",
   "metadata": {},
   "source": [
    "Let's confirm how many records we have inside of `dummy_sales_data`"
   ]
  },
  {
   "cell_type": "code",
   "execution_count": 25,
   "metadata": {},
   "outputs": [
    {
     "name": "stdout",
     "output_type": "stream",
     "text": [
      "<class 'pandas.core.frame.DataFrame'>\n",
      "Int64Index: 1322148 entries, 0 to 1437521\n",
      "Data columns (total 6 columns):\n",
      "Major            1322148 non-null float64\n",
      "Minor            1322148 non-null float64\n",
      "DocumentDate     1322148 non-null object\n",
      "SalePrice        1322148 non-null int64\n",
      "SqFtTotLiving    1322148 non-null int64\n",
      "ZipCode          1322148 non-null object\n",
      "dtypes: float64(2), int64(2), object(2)\n",
      "memory usage: 70.6+ MB\n"
     ]
    }
   ],
   "source": [
    "dummy_sales_data.info()"
   ]
  },
  {
   "cell_type": "code",
   "execution_count": 26,
   "metadata": {},
   "outputs": [
    {
     "data": {
      "text/html": [
       "<div>\n",
       "<style scoped>\n",
       "    .dataframe tbody tr th:only-of-type {\n",
       "        vertical-align: middle;\n",
       "    }\n",
       "\n",
       "    .dataframe tbody tr th {\n",
       "        vertical-align: top;\n",
       "    }\n",
       "\n",
       "    .dataframe thead th {\n",
       "        text-align: right;\n",
       "    }\n",
       "</style>\n",
       "<table border=\"1\" class=\"dataframe\">\n",
       "  <thead>\n",
       "    <tr style=\"text-align: right;\">\n",
       "      <th></th>\n",
       "      <th>Major</th>\n",
       "      <th>Minor</th>\n",
       "      <th>DocumentDate</th>\n",
       "      <th>SalePrice</th>\n",
       "      <th>SqFtTotLiving</th>\n",
       "      <th>ZipCode</th>\n",
       "    </tr>\n",
       "  </thead>\n",
       "  <tbody>\n",
       "    <tr>\n",
       "      <th>0</th>\n",
       "      <td>138860.0</td>\n",
       "      <td>110.0</td>\n",
       "      <td>08/21/2014</td>\n",
       "      <td>245000</td>\n",
       "      <td>1490</td>\n",
       "      <td>98002</td>\n",
       "    </tr>\n",
       "    <tr>\n",
       "      <th>1</th>\n",
       "      <td>138860.0</td>\n",
       "      <td>110.0</td>\n",
       "      <td>06/12/1989</td>\n",
       "      <td>109300</td>\n",
       "      <td>1490</td>\n",
       "      <td>98002</td>\n",
       "    </tr>\n",
       "    <tr>\n",
       "      <th>2</th>\n",
       "      <td>138860.0</td>\n",
       "      <td>110.0</td>\n",
       "      <td>01/16/2005</td>\n",
       "      <td>14684</td>\n",
       "      <td>1490</td>\n",
       "      <td>98002</td>\n",
       "    </tr>\n",
       "    <tr>\n",
       "      <th>6</th>\n",
       "      <td>423943.0</td>\n",
       "      <td>50.0</td>\n",
       "      <td>07/15/1999</td>\n",
       "      <td>96000</td>\n",
       "      <td>960</td>\n",
       "      <td>98092</td>\n",
       "    </tr>\n",
       "    <tr>\n",
       "      <th>7</th>\n",
       "      <td>423943.0</td>\n",
       "      <td>50.0</td>\n",
       "      <td>01/08/2001</td>\n",
       "      <td>127500</td>\n",
       "      <td>960</td>\n",
       "      <td>98092</td>\n",
       "    </tr>\n",
       "  </tbody>\n",
       "</table>\n",
       "</div>"
      ],
      "text/plain": [
       "      Major  Minor DocumentDate  SalePrice  SqFtTotLiving ZipCode\n",
       "0  138860.0  110.0   08/21/2014     245000           1490   98002\n",
       "1  138860.0  110.0   06/12/1989     109300           1490   98002\n",
       "2  138860.0  110.0   01/16/2005      14684           1490   98002\n",
       "6  423943.0   50.0   07/15/1999      96000            960   98092\n",
       "7  423943.0   50.0   01/08/2001     127500            960   98092"
      ]
     },
     "execution_count": 26,
     "metadata": {},
     "output_type": "execute_result"
    }
   ],
   "source": [
    "# keep only the records whose 'SalePrice' is greater than 0\n",
    "dummy_sales_data = dummy_sales_data.loc[dummy_sales_data[\"SalePrice\"] > 0, :]\n",
    "dummy_sales_data.head()"
   ]
  },
  {
   "cell_type": "code",
   "execution_count": 27,
   "metadata": {
    "scrolled": true
   },
   "outputs": [
    {
     "name": "stdout",
     "output_type": "stream",
     "text": [
      "<class 'pandas.core.frame.DataFrame'>\n",
      "Int64Index: 867413 entries, 0 to 1437520\n",
      "Data columns (total 6 columns):\n",
      "Major            867413 non-null float64\n",
      "Minor            867413 non-null float64\n",
      "DocumentDate     867413 non-null object\n",
      "SalePrice        867413 non-null int64\n",
      "SqFtTotLiving    867413 non-null int64\n",
      "ZipCode          867413 non-null object\n",
      "dtypes: float64(2), int64(2), object(2)\n",
      "memory usage: 46.3+ MB\n"
     ]
    }
   ],
   "source": [
    "dummy_sales_data.info()"
   ]
  },
  {
   "cell_type": "markdown",
   "metadata": {},
   "source": [
    "After filtering based on `SalePrice` values greater than 0, `dummy_sales_data` now only has 867413 records as opposed to 1322148."
   ]
  },
  {
   "cell_type": "code",
   "execution_count": 28,
   "metadata": {},
   "outputs": [
    {
     "data": {
      "text/html": [
       "<div>\n",
       "<style scoped>\n",
       "    .dataframe tbody tr th:only-of-type {\n",
       "        vertical-align: middle;\n",
       "    }\n",
       "\n",
       "    .dataframe tbody tr th {\n",
       "        vertical-align: top;\n",
       "    }\n",
       "\n",
       "    .dataframe thead th {\n",
       "        text-align: right;\n",
       "    }\n",
       "</style>\n",
       "<table border=\"1\" class=\"dataframe\">\n",
       "  <thead>\n",
       "    <tr style=\"text-align: right;\">\n",
       "      <th></th>\n",
       "      <th>Major</th>\n",
       "      <th>Minor</th>\n",
       "      <th>DocumentDate</th>\n",
       "      <th>SalePrice</th>\n",
       "      <th>SqFtTotLiving</th>\n",
       "      <th>ZipCode</th>\n",
       "    </tr>\n",
       "  </thead>\n",
       "  <tbody>\n",
       "    <tr>\n",
       "      <th>0</th>\n",
       "      <td>138860.0</td>\n",
       "      <td>110.0</td>\n",
       "      <td>08/21/2014</td>\n",
       "      <td>245000</td>\n",
       "      <td>1490</td>\n",
       "      <td>98002</td>\n",
       "    </tr>\n",
       "    <tr>\n",
       "      <th>1</th>\n",
       "      <td>138860.0</td>\n",
       "      <td>110.0</td>\n",
       "      <td>06/12/1989</td>\n",
       "      <td>109300</td>\n",
       "      <td>1490</td>\n",
       "      <td>98002</td>\n",
       "    </tr>\n",
       "    <tr>\n",
       "      <th>2</th>\n",
       "      <td>138860.0</td>\n",
       "      <td>110.0</td>\n",
       "      <td>01/16/2005</td>\n",
       "      <td>14684</td>\n",
       "      <td>1490</td>\n",
       "      <td>98002</td>\n",
       "    </tr>\n",
       "    <tr>\n",
       "      <th>6</th>\n",
       "      <td>423943.0</td>\n",
       "      <td>50.0</td>\n",
       "      <td>07/15/1999</td>\n",
       "      <td>96000</td>\n",
       "      <td>960</td>\n",
       "      <td>98092</td>\n",
       "    </tr>\n",
       "    <tr>\n",
       "      <th>7</th>\n",
       "      <td>423943.0</td>\n",
       "      <td>50.0</td>\n",
       "      <td>01/08/2001</td>\n",
       "      <td>127500</td>\n",
       "      <td>960</td>\n",
       "      <td>98092</td>\n",
       "    </tr>\n",
       "  </tbody>\n",
       "</table>\n",
       "</div>"
      ],
      "text/plain": [
       "      Major  Minor DocumentDate  SalePrice  SqFtTotLiving ZipCode\n",
       "0  138860.0  110.0   08/21/2014     245000           1490   98002\n",
       "1  138860.0  110.0   06/12/1989     109300           1490   98002\n",
       "2  138860.0  110.0   01/16/2005      14684           1490   98002\n",
       "6  423943.0   50.0   07/15/1999      96000            960   98092\n",
       "7  423943.0   50.0   01/08/2001     127500            960   98092"
      ]
     },
     "execution_count": 28,
     "metadata": {},
     "output_type": "execute_result"
    }
   ],
   "source": [
    "# keep only records where 'SqFtTotLiving' is greater than 0\n",
    "dummy_sales_data = dummy_sales_data.loc[dummy_sales_data[\"SqFtTotLiving\"] > 0,:]\n",
    "dummy_sales_data.head()"
   ]
  },
  {
   "cell_type": "code",
   "execution_count": 29,
   "metadata": {},
   "outputs": [
    {
     "name": "stdout",
     "output_type": "stream",
     "text": [
      "<class 'pandas.core.frame.DataFrame'>\n",
      "Int64Index: 867404 entries, 0 to 1437520\n",
      "Data columns (total 6 columns):\n",
      "Major            867404 non-null float64\n",
      "Minor            867404 non-null float64\n",
      "DocumentDate     867404 non-null object\n",
      "SalePrice        867404 non-null int64\n",
      "SqFtTotLiving    867404 non-null int64\n",
      "ZipCode          867404 non-null object\n",
      "dtypes: float64(2), int64(2), object(2)\n",
      "memory usage: 46.3+ MB\n"
     ]
    }
   ],
   "source": [
    "dummy_sales_data.info()"
   ]
  },
  {
   "cell_type": "markdown",
   "metadata": {},
   "source": [
    "After filtering based on `SqFtTotLiving` values greater than 0, `dummy_sales_data` now only has 867404 records as opposed to 867413."
   ]
  },
  {
   "cell_type": "markdown",
   "metadata": {},
   "source": [
    "### 2. Investigate and handle non-numeric ZipCode values\n",
    "\n",
    "Can you find a way to shorten ZIP+4 codes to the first five digits?\n",
    "\n",
    "What's the right thing to do with missing values?"
   ]
  },
  {
   "cell_type": "code",
   "execution_count": 29,
   "metadata": {
    "scrolled": true
   },
   "outputs": [],
   "source": [
    "# Read the error message and decide how to fix it.\n",
    "# Note: using errors='coerce' is the *wrong* choice in this case.\n",
    "# def is_integer(x):\n",
    "#     try:\n",
    "#         _ = int(x)\n",
    "#     except ValueError:\n",
    "#         return False\n",
    "#     return True\n",
    "\n",
    "# sales_data.loc[sales_data['ZipCode'].apply(is_integer) == False, 'ZipCode'].head()"
   ]
  },
  {
   "cell_type": "markdown",
   "metadata": {},
   "source": [
    "I did not know how to use the is_integer function so I ultimately did not."
   ]
  },
  {
   "cell_type": "code",
   "execution_count": 30,
   "metadata": {
    "scrolled": true
   },
   "outputs": [
    {
     "data": {
      "text/plain": [
       "98042         25815\n",
       "98038         21859\n",
       "98115         21314\n",
       "98023         20504\n",
       "98006         20282\n",
       "98058         19715\n",
       "98052         19394\n",
       "98117         19174\n",
       "98103         17849\n",
       "98118         17667\n",
       "98034         17530\n",
       "98133         16672\n",
       "98074         16293\n",
       "98033         15905\n",
       "98155         15499\n",
       "98059         15051\n",
       "98056         14565\n",
       "98031         13860\n",
       "98092         13592\n",
       "98125         13480\n",
       "98001         13368\n",
       "98053         13144\n",
       "98003         12798\n",
       "98075         12299\n",
       "98168         12057\n",
       "98178         11889\n",
       "98106         11840\n",
       "98008         11709\n",
       "98029         11238\n",
       "98027         11175\n",
       "              ...  \n",
       "98028-8908        1\n",
       "98028-4377        1\n",
       "98075-9517        1\n",
       "98044             1\n",
       "98074-3738        1\n",
       "95055             1\n",
       "98059-7428        1\n",
       "98023-7841        1\n",
       "98075-9565        1\n",
       "98006-3954        1\n",
       "98028-8533        1\n",
       "98074-4092        1\n",
       "98013.0           1\n",
       "98075-8005        1\n",
       "B                 1\n",
       "90855             1\n",
       "98054             1\n",
       "98176             1\n",
       "98028-6100        1\n",
       "28028             1\n",
       "98043             1\n",
       "8126              1\n",
       "98031-3173        1\n",
       "95059             1\n",
       "98074-6568        1\n",
       "99019             1\n",
       "98028-4228        1\n",
       "98053-5932        1\n",
       "98028-4712        1\n",
       "98028-4505        1\n",
       "Name: ZipCode, Length: 271, dtype: int64"
      ]
     },
     "execution_count": 30,
     "metadata": {},
     "output_type": "execute_result"
    }
   ],
   "source": [
    "#Get a look at some of the unusual values\n",
    "dummy_sales_data[\"ZipCode\"].value_counts()"
   ]
  },
  {
   "cell_type": "code",
   "execution_count": 31,
   "metadata": {},
   "outputs": [
    {
     "data": {
      "text/plain": [
       "str"
      ]
     },
     "execution_count": 31,
     "metadata": {},
     "output_type": "execute_result"
    }
   ],
   "source": [
    "#Find out what kind of data these zipcodes are\n",
    "type(dummy_sales_data[\"ZipCode\"][60])"
   ]
  },
  {
   "cell_type": "code",
   "execution_count": 32,
   "metadata": {},
   "outputs": [],
   "source": [
    "dummy_sales_data = dummy_sales_data.loc[((dummy_sales_data[\"ZipCode\"].str.len()) > 4), :]"
   ]
  },
  {
   "cell_type": "code",
   "execution_count": 33,
   "metadata": {},
   "outputs": [
    {
     "name": "stdout",
     "output_type": "stream",
     "text": [
      "<class 'pandas.core.frame.DataFrame'>\n",
      "Int64Index: 782966 entries, 0 to 1437520\n",
      "Data columns (total 6 columns):\n",
      "Major            782966 non-null float64\n",
      "Minor            782966 non-null float64\n",
      "DocumentDate     782966 non-null object\n",
      "SalePrice        782966 non-null int64\n",
      "SqFtTotLiving    782966 non-null int64\n",
      "ZipCode          782966 non-null object\n",
      "dtypes: float64(2), int64(2), object(2)\n",
      "memory usage: 41.8+ MB\n"
     ]
    }
   ],
   "source": [
    "dummy_sales_data.info()"
   ]
  },
  {
   "cell_type": "markdown",
   "metadata": {},
   "source": [
    "After filtering based on `ZipCode` length values greater than 4, `dummy_sales_data` now only has 782966 records as opposed to 867404."
   ]
  },
  {
   "cell_type": "code",
   "execution_count": 34,
   "metadata": {},
   "outputs": [
    {
     "data": {
      "text/plain": [
       "782966"
      ]
     },
     "execution_count": 34,
     "metadata": {},
     "output_type": "execute_result"
    }
   ],
   "source": [
    "len(dummy_sales_data[\"ZipCode\"])"
   ]
  },
  {
   "cell_type": "markdown",
   "metadata": {},
   "source": [
    "Take a look at what kinds of zip codes we have left."
   ]
  },
  {
   "cell_type": "code",
   "execution_count": 35,
   "metadata": {
    "scrolled": true
   },
   "outputs": [
    {
     "data": {
      "text/plain": [
       "array(['98002', '98092', '98008', '98058', '98038', '98031', '98188',\n",
       "       '98051', '98001', '98108', '98198', '98115', '98118', '98072',\n",
       "       '98117', '98039', '98155', '98075', '98003', '98103', '98022',\n",
       "       '98042', '98040', '98133', '98105', '98056', '98102', '98053',\n",
       "       '98168', '98027', '98011', '98074', '98146', '98024', '98029',\n",
       "       '98006', '98005', '98028', '98034', '98144', '98030', '98177',\n",
       "       '98166', '98065', '98112', '98116', '98010', '98199', '98032',\n",
       "       '98106', '98059', '98070', '98045', '98136', '98125', '98023',\n",
       "       '98033', '98077', '98109', '98055', '98178', '98052', '98122',\n",
       "       '98014', '98004', '98119', '98107', '98126', '98007', '98019',\n",
       "       '98224', '98148', '98047', '98288', '98050', '98042-3001', '98354',\n",
       "       '98068', '98199-3014', '98057', '98302', '98083', '98031-3173',\n",
       "       '98033-4917', '98058-9018', '98121', '98136-1728', '98058-7983',\n",
       "       '98074-6315', '98043', '98052-1963', '98113', '98134', '98026',\n",
       "       '89118', '98104', '98023-2712', '98028-4768', '98038-3112',\n",
       "       '98177-4810', '98000', '98204', '98074-4417', '98035',\n",
       "       '98074-3438', '98059-7428', '98422', '98034-2540', '98132',\n",
       "       '98023-7330', '98028-2118', '98074-9301', '98006-3954',\n",
       "       '98053-5932', '98074-2814', '98008-4429', '98075-9644',\n",
       "       '98055-2521', '98075-6010', '98118-6116', '95059', '98097',\n",
       "       '98074-5411', '98028-4377', '28028', '98189', '98198-8930',\n",
       "       '98017', '98025', '98075-9645', '98044', '98028-7915',\n",
       "       '98107-5353', '98111', '98074-7242', '98028-4228', '98074-3908',\n",
       "       '90108', '98033-8239', '98075-9158', '98118-3167', '98079',\n",
       "       '98021', '98029-3602', '98028-4505', '98075-9517', '98028-1654',\n",
       "       '95055', '98028-4712', '98009', '98075-8010', '98074-6568',\n",
       "       '98011-3777', '98059-5449', '98075-8005', '98058-5344',\n",
       "       '98074-3738', '98063', '98074-4092', '98146-3008', '98059-7120',\n",
       "       '98042-8215', '98028-4625', '98028-8908', '98075-9565', '98176',\n",
       "       '98042-4811', '98023-7841', '98045-9504', '98101', '98074-4122',\n",
       "       '98028-8533', '98028-6100', '99019', '90855', '98054'],\n",
       "      dtype=object)"
      ]
     },
     "execution_count": 35,
     "metadata": {},
     "output_type": "execute_result"
    }
   ],
   "source": [
    "dummy_sales_data[\"ZipCode\"].unique()"
   ]
  },
  {
   "cell_type": "code",
   "execution_count": 36,
   "metadata": {},
   "outputs": [],
   "source": [
    "def before_dash(s):\n",
    "    t = s.split(\"-\")[0]\n",
    "    return t"
   ]
  },
  {
   "cell_type": "code",
   "execution_count": 37,
   "metadata": {
    "scrolled": true
   },
   "outputs": [
    {
     "data": {
      "text/plain": [
       "'98074'"
      ]
     },
     "execution_count": 37,
     "metadata": {},
     "output_type": "execute_result"
    }
   ],
   "source": [
    "before_dash('98074-9301')"
   ]
  },
  {
   "cell_type": "code",
   "execution_count": 38,
   "metadata": {},
   "outputs": [],
   "source": [
    "dummy_sales_data[\"ZipCode\"] = dummy_sales_data[\"ZipCode\"].apply(before_dash)"
   ]
  },
  {
   "cell_type": "code",
   "execution_count": 39,
   "metadata": {
    "scrolled": true
   },
   "outputs": [
    {
     "data": {
      "text/plain": [
       "array(['98002', '98092', '98008', '98058', '98038', '98031', '98188',\n",
       "       '98051', '98001', '98108', '98198', '98115', '98118', '98072',\n",
       "       '98117', '98039', '98155', '98075', '98003', '98103', '98022',\n",
       "       '98042', '98040', '98133', '98105', '98056', '98102', '98053',\n",
       "       '98168', '98027', '98011', '98074', '98146', '98024', '98029',\n",
       "       '98006', '98005', '98028', '98034', '98144', '98030', '98177',\n",
       "       '98166', '98065', '98112', '98116', '98010', '98199', '98032',\n",
       "       '98106', '98059', '98070', '98045', '98136', '98125', '98023',\n",
       "       '98033', '98077', '98109', '98055', '98178', '98052', '98122',\n",
       "       '98014', '98004', '98119', '98107', '98126', '98007', '98019',\n",
       "       '98224', '98148', '98047', '98288', '98050', '98354', '98068',\n",
       "       '98057', '98302', '98083', '98121', '98043', '98113', '98134',\n",
       "       '98026', '89118', '98104', '98000', '98204', '98035', '98422',\n",
       "       '98132', '95059', '98097', '28028', '98189', '98017', '98025',\n",
       "       '98044', '98111', '90108', '98079', '98021', '95055', '98009',\n",
       "       '98063', '98176', '98101', '99019', '90855', '98054'], dtype=object)"
      ]
     },
     "execution_count": 39,
     "metadata": {},
     "output_type": "execute_result"
    }
   ],
   "source": [
    "dummy_sales_data[\"ZipCode\"].unique()"
   ]
  },
  {
   "cell_type": "markdown",
   "metadata": {},
   "source": [
    "### 3. Add a column for PricePerSqFt\n",
    "\n"
   ]
  },
  {
   "cell_type": "code",
   "execution_count": 40,
   "metadata": {},
   "outputs": [
    {
     "data": {
      "text/plain": [
       "dtype('int64')"
      ]
     },
     "execution_count": 40,
     "metadata": {},
     "output_type": "execute_result"
    }
   ],
   "source": [
    "#I want to divide SalePrice by SqFtTotLiving, so I'll make sure they are all floats\n",
    "dummy_sales_data[\"SalePrice\"].dtype"
   ]
  },
  {
   "cell_type": "code",
   "execution_count": 41,
   "metadata": {},
   "outputs": [
    {
     "data": {
      "text/plain": [
       "dtype('int64')"
      ]
     },
     "execution_count": 41,
     "metadata": {},
     "output_type": "execute_result"
    }
   ],
   "source": [
    "#I reassigned it using astype. It got mad at me so I'll use loc for the next one\n",
    "dummy_sales_data[\"SalePrice\"].dtype"
   ]
  },
  {
   "cell_type": "code",
   "execution_count": 42,
   "metadata": {},
   "outputs": [
    {
     "data": {
      "text/plain": [
       "dtype('int64')"
      ]
     },
     "execution_count": 42,
     "metadata": {},
     "output_type": "execute_result"
    }
   ],
   "source": [
    "dummy_sales_data[\"SqFtTotLiving\"].dtype"
   ]
  },
  {
   "cell_type": "code",
   "execution_count": 43,
   "metadata": {},
   "outputs": [
    {
     "name": "stderr",
     "output_type": "stream",
     "text": [
      "/Users/cnuno/anaconda3/lib/python3.7/site-packages/pandas/core/indexing.py:1472: FutureWarning: \n",
      "Passing list-likes to .loc or [] with any missing label will raise\n",
      "KeyError in the future, you can use .reindex() as an alternative.\n",
      "\n",
      "See the documentation here:\n",
      "https://pandas.pydata.org/pandas-docs/stable/indexing.html#deprecate-loc-reindex-listlike\n",
      "  return self._getitem_tuple(key)\n"
     ]
    }
   ],
   "source": [
    "dummy_sales_data = dummy_sales_data.loc[dummy_sales_data[\"SqFtTotLiving\"].astype(float), :]"
   ]
  },
  {
   "cell_type": "code",
   "execution_count": 44,
   "metadata": {},
   "outputs": [
    {
     "data": {
      "text/plain": [
       "dtype('float64')"
      ]
     },
     "execution_count": 44,
     "metadata": {},
     "output_type": "execute_result"
    }
   ],
   "source": [
    "dummy_sales_data[\"SqFtTotLiving\"].dtype"
   ]
  },
  {
   "cell_type": "code",
   "execution_count": 45,
   "metadata": {},
   "outputs": [
    {
     "data": {
      "text/html": [
       "<div>\n",
       "<style scoped>\n",
       "    .dataframe tbody tr th:only-of-type {\n",
       "        vertical-align: middle;\n",
       "    }\n",
       "\n",
       "    .dataframe tbody tr th {\n",
       "        vertical-align: top;\n",
       "    }\n",
       "\n",
       "    .dataframe thead th {\n",
       "        text-align: right;\n",
       "    }\n",
       "</style>\n",
       "<table border=\"1\" class=\"dataframe\">\n",
       "  <thead>\n",
       "    <tr style=\"text-align: right;\">\n",
       "      <th></th>\n",
       "      <th>Major</th>\n",
       "      <th>Minor</th>\n",
       "      <th>DocumentDate</th>\n",
       "      <th>SalePrice</th>\n",
       "      <th>SqFtTotLiving</th>\n",
       "      <th>ZipCode</th>\n",
       "      <th>PricePerSqFt</th>\n",
       "    </tr>\n",
       "  </thead>\n",
       "  <tbody>\n",
       "    <tr>\n",
       "      <th>1490.0</th>\n",
       "      <td>334570.0</td>\n",
       "      <td>202.0</td>\n",
       "      <td>09/27/1999</td>\n",
       "      <td>317000.0</td>\n",
       "      <td>2300.0</td>\n",
       "      <td>98056</td>\n",
       "      <td>137.826087</td>\n",
       "    </tr>\n",
       "    <tr>\n",
       "      <th>1490.0</th>\n",
       "      <td>334570.0</td>\n",
       "      <td>202.0</td>\n",
       "      <td>09/27/1999</td>\n",
       "      <td>317000.0</td>\n",
       "      <td>2300.0</td>\n",
       "      <td>98056</td>\n",
       "      <td>137.826087</td>\n",
       "    </tr>\n",
       "    <tr>\n",
       "      <th>1490.0</th>\n",
       "      <td>334570.0</td>\n",
       "      <td>202.0</td>\n",
       "      <td>09/27/1999</td>\n",
       "      <td>317000.0</td>\n",
       "      <td>2300.0</td>\n",
       "      <td>98056</td>\n",
       "      <td>137.826087</td>\n",
       "    </tr>\n",
       "    <tr>\n",
       "      <th>960.0</th>\n",
       "      <td>865010.0</td>\n",
       "      <td>200.0</td>\n",
       "      <td>11/15/2006</td>\n",
       "      <td>364950.0</td>\n",
       "      <td>2150.0</td>\n",
       "      <td>98042</td>\n",
       "      <td>169.744186</td>\n",
       "    </tr>\n",
       "    <tr>\n",
       "      <th>960.0</th>\n",
       "      <td>865010.0</td>\n",
       "      <td>200.0</td>\n",
       "      <td>11/15/2006</td>\n",
       "      <td>364950.0</td>\n",
       "      <td>2150.0</td>\n",
       "      <td>98042</td>\n",
       "      <td>169.744186</td>\n",
       "    </tr>\n",
       "  </tbody>\n",
       "</table>\n",
       "</div>"
      ],
      "text/plain": [
       "           Major  Minor DocumentDate  SalePrice  SqFtTotLiving ZipCode  \\\n",
       "1490.0  334570.0  202.0   09/27/1999   317000.0         2300.0   98056   \n",
       "1490.0  334570.0  202.0   09/27/1999   317000.0         2300.0   98056   \n",
       "1490.0  334570.0  202.0   09/27/1999   317000.0         2300.0   98056   \n",
       "960.0   865010.0  200.0   11/15/2006   364950.0         2150.0   98042   \n",
       "960.0   865010.0  200.0   11/15/2006   364950.0         2150.0   98042   \n",
       "\n",
       "        PricePerSqFt  \n",
       "1490.0    137.826087  \n",
       "1490.0    137.826087  \n",
       "1490.0    137.826087  \n",
       "960.0     169.744186  \n",
       "960.0     169.744186  "
      ]
     },
     "execution_count": 45,
     "metadata": {},
     "output_type": "execute_result"
    }
   ],
   "source": [
    "dummy_sales_data[\"PricePerSqFt\"] = dummy_sales_data[\"SalePrice\"]/dummy_sales_data[\"SqFtTotLiving\"]\n",
    "dummy_sales_data.head()"
   ]
  },
  {
   "cell_type": "markdown",
   "metadata": {},
   "source": [
    "### 4. Subset the data to 2019 sales only.\n",
    "\n",
    "We can assume that the DocumentDate is approximately the sale date."
   ]
  },
  {
   "cell_type": "code",
   "execution_count": 46,
   "metadata": {},
   "outputs": [
    {
     "data": {
      "text/plain": [
       "08/20/2013    4703\n",
       "05/14/2007    4667\n",
       "06/03/2003    4617\n",
       "03/22/2016    4397\n",
       "06/10/1999    4386\n",
       "06/20/2001    4378\n",
       "11/05/2003    4296\n",
       "01/11/2007    4190\n",
       "10/22/2003    4179\n",
       "06/13/2013    4089\n",
       "07/17/2008    4051\n",
       "08/23/2006    3957\n",
       "03/16/2005    3948\n",
       "08/30/2005    3938\n",
       "07/06/2004    3936\n",
       "11/05/2014    3931\n",
       "03/09/1995    3900\n",
       "12/16/1996    3831\n",
       "03/11/1997    3817\n",
       "04/28/2003    3805\n",
       "09/14/2012    3792\n",
       "03/20/2018    3791\n",
       "12/09/1993    3763\n",
       "03/03/2000    3716\n",
       "01/21/1988    3711\n",
       "09/02/2004    3658\n",
       "03/04/2011    3581\n",
       "12/18/2013    3559\n",
       "11/08/1999    3532\n",
       "05/10/1995    3526\n",
       "              ... \n",
       "05/24/2000       1\n",
       "06/29/2016       1\n",
       "03/05/2004       1\n",
       "03/21/2019       1\n",
       "07/12/2000       1\n",
       "03/08/1999       1\n",
       "06/12/2018       1\n",
       "05/27/2005       1\n",
       "10/26/1995       1\n",
       "07/24/1986       1\n",
       "07/27/2015       1\n",
       "03/14/2006       1\n",
       "11/27/2018       1\n",
       "05/10/2016       1\n",
       "06/26/2002       1\n",
       "08/28/2018       1\n",
       "11/18/1998       1\n",
       "05/31/2014       1\n",
       "08/05/1992       1\n",
       "03/24/2003       1\n",
       "06/23/2010       1\n",
       "03/25/2016       1\n",
       "12/05/1997       1\n",
       "09/09/2009       1\n",
       "02/18/2015       1\n",
       "09/29/2003       1\n",
       "02/06/2019       1\n",
       "12/01/1997       1\n",
       "11/14/1997       1\n",
       "08/02/2018       1\n",
       "Name: DocumentDate, Length: 1443, dtype: int64"
      ]
     },
     "execution_count": 46,
     "metadata": {},
     "output_type": "execute_result"
    }
   ],
   "source": [
    "dummy_sales_data[\"DocumentDate\"].value_counts()"
   ]
  },
  {
   "cell_type": "markdown",
   "metadata": {},
   "source": [
    "Let's create a new column called `DocumentYear` that requires us first to convert `DocumentDate` to a `Date` object. For safety, I'll store this coversion in a new column called `DocumentDateClean`."
   ]
  },
  {
   "cell_type": "code",
   "execution_count": 48,
   "metadata": {},
   "outputs": [
    {
     "data": {
      "text/html": [
       "<div>\n",
       "<style scoped>\n",
       "    .dataframe tbody tr th:only-of-type {\n",
       "        vertical-align: middle;\n",
       "    }\n",
       "\n",
       "    .dataframe tbody tr th {\n",
       "        vertical-align: top;\n",
       "    }\n",
       "\n",
       "    .dataframe thead th {\n",
       "        text-align: right;\n",
       "    }\n",
       "</style>\n",
       "<table border=\"1\" class=\"dataframe\">\n",
       "  <thead>\n",
       "    <tr style=\"text-align: right;\">\n",
       "      <th></th>\n",
       "      <th>Major</th>\n",
       "      <th>Minor</th>\n",
       "      <th>DocumentDate</th>\n",
       "      <th>SalePrice</th>\n",
       "      <th>SqFtTotLiving</th>\n",
       "      <th>ZipCode</th>\n",
       "      <th>PricePerSqFt</th>\n",
       "      <th>DocumentDateClean</th>\n",
       "    </tr>\n",
       "  </thead>\n",
       "  <tbody>\n",
       "    <tr>\n",
       "      <th>1490.0</th>\n",
       "      <td>334570.0</td>\n",
       "      <td>202.0</td>\n",
       "      <td>09/27/1999</td>\n",
       "      <td>317000.0</td>\n",
       "      <td>2300.0</td>\n",
       "      <td>98056</td>\n",
       "      <td>137.826087</td>\n",
       "      <td>1999-09-27</td>\n",
       "    </tr>\n",
       "    <tr>\n",
       "      <th>1490.0</th>\n",
       "      <td>334570.0</td>\n",
       "      <td>202.0</td>\n",
       "      <td>09/27/1999</td>\n",
       "      <td>317000.0</td>\n",
       "      <td>2300.0</td>\n",
       "      <td>98056</td>\n",
       "      <td>137.826087</td>\n",
       "      <td>1999-09-27</td>\n",
       "    </tr>\n",
       "    <tr>\n",
       "      <th>1490.0</th>\n",
       "      <td>334570.0</td>\n",
       "      <td>202.0</td>\n",
       "      <td>09/27/1999</td>\n",
       "      <td>317000.0</td>\n",
       "      <td>2300.0</td>\n",
       "      <td>98056</td>\n",
       "      <td>137.826087</td>\n",
       "      <td>1999-09-27</td>\n",
       "    </tr>\n",
       "    <tr>\n",
       "      <th>960.0</th>\n",
       "      <td>865010.0</td>\n",
       "      <td>200.0</td>\n",
       "      <td>11/15/2006</td>\n",
       "      <td>364950.0</td>\n",
       "      <td>2150.0</td>\n",
       "      <td>98042</td>\n",
       "      <td>169.744186</td>\n",
       "      <td>2006-11-15</td>\n",
       "    </tr>\n",
       "    <tr>\n",
       "      <th>960.0</th>\n",
       "      <td>865010.0</td>\n",
       "      <td>200.0</td>\n",
       "      <td>11/15/2006</td>\n",
       "      <td>364950.0</td>\n",
       "      <td>2150.0</td>\n",
       "      <td>98042</td>\n",
       "      <td>169.744186</td>\n",
       "      <td>2006-11-15</td>\n",
       "    </tr>\n",
       "  </tbody>\n",
       "</table>\n",
       "</div>"
      ],
      "text/plain": [
       "           Major  Minor DocumentDate  SalePrice  SqFtTotLiving ZipCode  \\\n",
       "1490.0  334570.0  202.0   09/27/1999   317000.0         2300.0   98056   \n",
       "1490.0  334570.0  202.0   09/27/1999   317000.0         2300.0   98056   \n",
       "1490.0  334570.0  202.0   09/27/1999   317000.0         2300.0   98056   \n",
       "960.0   865010.0  200.0   11/15/2006   364950.0         2150.0   98042   \n",
       "960.0   865010.0  200.0   11/15/2006   364950.0         2150.0   98042   \n",
       "\n",
       "        PricePerSqFt DocumentDateClean  \n",
       "1490.0    137.826087        1999-09-27  \n",
       "1490.0    137.826087        1999-09-27  \n",
       "1490.0    137.826087        1999-09-27  \n",
       "960.0     169.744186        2006-11-15  \n",
       "960.0     169.744186        2006-11-15  "
      ]
     },
     "execution_count": 48,
     "metadata": {},
     "output_type": "execute_result"
    }
   ],
   "source": [
    "dummy_sales_data[\"DocumentDateClean\"] = pd.to_datetime(dummy_sales_data[\"DocumentDate\"], \n",
    "                                                       format=\"%m/%d/%Y\")\n",
    "dummy_sales_data.head()"
   ]
  },
  {
   "cell_type": "code",
   "execution_count": 52,
   "metadata": {},
   "outputs": [
    {
     "data": {
      "text/html": [
       "<div>\n",
       "<style scoped>\n",
       "    .dataframe tbody tr th:only-of-type {\n",
       "        vertical-align: middle;\n",
       "    }\n",
       "\n",
       "    .dataframe tbody tr th {\n",
       "        vertical-align: top;\n",
       "    }\n",
       "\n",
       "    .dataframe thead th {\n",
       "        text-align: right;\n",
       "    }\n",
       "</style>\n",
       "<table border=\"1\" class=\"dataframe\">\n",
       "  <thead>\n",
       "    <tr style=\"text-align: right;\">\n",
       "      <th></th>\n",
       "      <th>Major</th>\n",
       "      <th>Minor</th>\n",
       "      <th>DocumentDate</th>\n",
       "      <th>SalePrice</th>\n",
       "      <th>SqFtTotLiving</th>\n",
       "      <th>ZipCode</th>\n",
       "      <th>PricePerSqFt</th>\n",
       "      <th>DocumentDateClean</th>\n",
       "      <th>DocumentYear</th>\n",
       "    </tr>\n",
       "  </thead>\n",
       "  <tbody>\n",
       "    <tr>\n",
       "      <th>1490.0</th>\n",
       "      <td>334570.0</td>\n",
       "      <td>202.0</td>\n",
       "      <td>09/27/1999</td>\n",
       "      <td>317000.0</td>\n",
       "      <td>2300.0</td>\n",
       "      <td>98056</td>\n",
       "      <td>137.826087</td>\n",
       "      <td>1999-09-27</td>\n",
       "      <td>1999.0</td>\n",
       "    </tr>\n",
       "    <tr>\n",
       "      <th>1490.0</th>\n",
       "      <td>334570.0</td>\n",
       "      <td>202.0</td>\n",
       "      <td>09/27/1999</td>\n",
       "      <td>317000.0</td>\n",
       "      <td>2300.0</td>\n",
       "      <td>98056</td>\n",
       "      <td>137.826087</td>\n",
       "      <td>1999-09-27</td>\n",
       "      <td>1999.0</td>\n",
       "    </tr>\n",
       "    <tr>\n",
       "      <th>1490.0</th>\n",
       "      <td>334570.0</td>\n",
       "      <td>202.0</td>\n",
       "      <td>09/27/1999</td>\n",
       "      <td>317000.0</td>\n",
       "      <td>2300.0</td>\n",
       "      <td>98056</td>\n",
       "      <td>137.826087</td>\n",
       "      <td>1999-09-27</td>\n",
       "      <td>1999.0</td>\n",
       "    </tr>\n",
       "    <tr>\n",
       "      <th>960.0</th>\n",
       "      <td>865010.0</td>\n",
       "      <td>200.0</td>\n",
       "      <td>11/15/2006</td>\n",
       "      <td>364950.0</td>\n",
       "      <td>2150.0</td>\n",
       "      <td>98042</td>\n",
       "      <td>169.744186</td>\n",
       "      <td>2006-11-15</td>\n",
       "      <td>2006.0</td>\n",
       "    </tr>\n",
       "    <tr>\n",
       "      <th>960.0</th>\n",
       "      <td>865010.0</td>\n",
       "      <td>200.0</td>\n",
       "      <td>11/15/2006</td>\n",
       "      <td>364950.0</td>\n",
       "      <td>2150.0</td>\n",
       "      <td>98042</td>\n",
       "      <td>169.744186</td>\n",
       "      <td>2006-11-15</td>\n",
       "      <td>2006.0</td>\n",
       "    </tr>\n",
       "  </tbody>\n",
       "</table>\n",
       "</div>"
      ],
      "text/plain": [
       "           Major  Minor DocumentDate  SalePrice  SqFtTotLiving ZipCode  \\\n",
       "1490.0  334570.0  202.0   09/27/1999   317000.0         2300.0   98056   \n",
       "1490.0  334570.0  202.0   09/27/1999   317000.0         2300.0   98056   \n",
       "1490.0  334570.0  202.0   09/27/1999   317000.0         2300.0   98056   \n",
       "960.0   865010.0  200.0   11/15/2006   364950.0         2150.0   98042   \n",
       "960.0   865010.0  200.0   11/15/2006   364950.0         2150.0   98042   \n",
       "\n",
       "        PricePerSqFt DocumentDateClean  DocumentYear  \n",
       "1490.0    137.826087        1999-09-27        1999.0  \n",
       "1490.0    137.826087        1999-09-27        1999.0  \n",
       "1490.0    137.826087        1999-09-27        1999.0  \n",
       "960.0     169.744186        2006-11-15        2006.0  \n",
       "960.0     169.744186        2006-11-15        2006.0  "
      ]
     },
     "execution_count": 52,
     "metadata": {},
     "output_type": "execute_result"
    }
   ],
   "source": [
    "dummy_sales_data[\"DocumentYear\"] = dummy_sales_data[\"DocumentDateClean\"].dt.year\n",
    "dummy_sales_data.head()"
   ]
  },
  {
   "cell_type": "markdown",
   "metadata": {},
   "source": [
    "Now let's count how many records by `DocumentYear`"
   ]
  },
  {
   "cell_type": "code",
   "execution_count": 54,
   "metadata": {},
   "outputs": [
    {
     "data": {
      "text/plain": [
       "1966.0     1167\n",
       "1982.0       40\n",
       "1983.0       47\n",
       "1984.0       49\n",
       "1985.0       88\n",
       "1986.0      196\n",
       "1987.0      107\n",
       "1988.0     6186\n",
       "1989.0       43\n",
       "1990.0     1985\n",
       "1991.0     5728\n",
       "1992.0     4960\n",
       "1993.0    10551\n",
       "1994.0    16533\n",
       "1995.0    13354\n",
       "1996.0    19611\n",
       "1997.0     7005\n",
       "1998.0    15360\n",
       "1999.0    21043\n",
       "2000.0    14710\n",
       "2001.0    11067\n",
       "2002.0    15997\n",
       "2003.0    28671\n",
       "2004.0    20627\n",
       "2005.0    16663\n",
       "2006.0    17965\n",
       "2007.0    15878\n",
       "2008.0    11646\n",
       "2009.0     3707\n",
       "2010.0       98\n",
       "2011.0     8581\n",
       "2012.0    13113\n",
       "2013.0    18954\n",
       "2014.0    15964\n",
       "2015.0     4258\n",
       "2016.0    14910\n",
       "2017.0     6660\n",
       "2018.0    14698\n",
       "2019.0       16\n",
       "Name: DocumentYear, dtype: int64"
      ]
     },
     "execution_count": 54,
     "metadata": {},
     "output_type": "execute_result"
    }
   ],
   "source": [
    "dummy_sales_data.DocumentYear.value_counts().sort_index()"
   ]
  },
  {
   "cell_type": "markdown",
   "metadata": {},
   "source": [
    "Surprisingly enough, **there does seem to be only 16 records in the year 2019**. This leads me to wonder about the data collection process of King County. It is reasonable that there would be some time delay between transactions in the real estate market and the time they are available for public viewing."
   ]
  },
  {
   "cell_type": "code",
   "execution_count": 55,
   "metadata": {},
   "outputs": [],
   "source": [
    "dummy_sales_2019 = dummy_sales_data.loc[dummy_sales_data[\"DocumentDate\"].str.contains(\"2019\") == True]"
   ]
  },
  {
   "cell_type": "code",
   "execution_count": 56,
   "metadata": {},
   "outputs": [
    {
     "data": {
      "text/html": [
       "<div>\n",
       "<style scoped>\n",
       "    .dataframe tbody tr th:only-of-type {\n",
       "        vertical-align: middle;\n",
       "    }\n",
       "\n",
       "    .dataframe tbody tr th {\n",
       "        vertical-align: top;\n",
       "    }\n",
       "\n",
       "    .dataframe thead th {\n",
       "        text-align: right;\n",
       "    }\n",
       "</style>\n",
       "<table border=\"1\" class=\"dataframe\">\n",
       "  <thead>\n",
       "    <tr style=\"text-align: right;\">\n",
       "      <th></th>\n",
       "      <th>Major</th>\n",
       "      <th>Minor</th>\n",
       "      <th>DocumentDate</th>\n",
       "      <th>SalePrice</th>\n",
       "      <th>SqFtTotLiving</th>\n",
       "      <th>ZipCode</th>\n",
       "      <th>PricePerSqFt</th>\n",
       "      <th>DocumentDateClean</th>\n",
       "      <th>DocumentYear</th>\n",
       "    </tr>\n",
       "  </thead>\n",
       "  <tbody>\n",
       "    <tr>\n",
       "      <th>2555.0</th>\n",
       "      <td>98400.0</td>\n",
       "      <td>450.0</td>\n",
       "      <td>02/20/2019</td>\n",
       "      <td>409950.0</td>\n",
       "      <td>1850.0</td>\n",
       "      <td>98058</td>\n",
       "      <td>221.594595</td>\n",
       "      <td>2019-02-20</td>\n",
       "      <td>2019.0</td>\n",
       "    </tr>\n",
       "    <tr>\n",
       "      <th>2555.0</th>\n",
       "      <td>98400.0</td>\n",
       "      <td>450.0</td>\n",
       "      <td>02/20/2019</td>\n",
       "      <td>409950.0</td>\n",
       "      <td>1850.0</td>\n",
       "      <td>98058</td>\n",
       "      <td>221.594595</td>\n",
       "      <td>2019-02-20</td>\n",
       "      <td>2019.0</td>\n",
       "    </tr>\n",
       "    <tr>\n",
       "      <th>2555.0</th>\n",
       "      <td>98400.0</td>\n",
       "      <td>450.0</td>\n",
       "      <td>02/20/2019</td>\n",
       "      <td>409950.0</td>\n",
       "      <td>1850.0</td>\n",
       "      <td>98058</td>\n",
       "      <td>221.594595</td>\n",
       "      <td>2019-02-20</td>\n",
       "      <td>2019.0</td>\n",
       "    </tr>\n",
       "    <tr>\n",
       "      <th>1657.0</th>\n",
       "      <td>82007.0</td>\n",
       "      <td>9027.0</td>\n",
       "      <td>02/15/2019</td>\n",
       "      <td>895000.0</td>\n",
       "      <td>3160.0</td>\n",
       "      <td>98022</td>\n",
       "      <td>283.227848</td>\n",
       "      <td>2019-02-15</td>\n",
       "      <td>2019.0</td>\n",
       "    </tr>\n",
       "    <tr>\n",
       "      <th>1657.0</th>\n",
       "      <td>82007.0</td>\n",
       "      <td>9027.0</td>\n",
       "      <td>02/15/2019</td>\n",
       "      <td>895000.0</td>\n",
       "      <td>3160.0</td>\n",
       "      <td>98022</td>\n",
       "      <td>283.227848</td>\n",
       "      <td>2019-02-15</td>\n",
       "      <td>2019.0</td>\n",
       "    </tr>\n",
       "  </tbody>\n",
       "</table>\n",
       "</div>"
      ],
      "text/plain": [
       "          Major   Minor DocumentDate  SalePrice  SqFtTotLiving ZipCode  \\\n",
       "2555.0  98400.0   450.0   02/20/2019   409950.0         1850.0   98058   \n",
       "2555.0  98400.0   450.0   02/20/2019   409950.0         1850.0   98058   \n",
       "2555.0  98400.0   450.0   02/20/2019   409950.0         1850.0   98058   \n",
       "1657.0  82007.0  9027.0   02/15/2019   895000.0         3160.0   98022   \n",
       "1657.0  82007.0  9027.0   02/15/2019   895000.0         3160.0   98022   \n",
       "\n",
       "        PricePerSqFt DocumentDateClean  DocumentYear  \n",
       "2555.0    221.594595        2019-02-20        2019.0  \n",
       "2555.0    221.594595        2019-02-20        2019.0  \n",
       "2555.0    221.594595        2019-02-20        2019.0  \n",
       "1657.0    283.227848        2019-02-15        2019.0  \n",
       "1657.0    283.227848        2019-02-15        2019.0  "
      ]
     },
     "execution_count": 56,
     "metadata": {},
     "output_type": "execute_result"
    }
   ],
   "source": [
    "dummy_sales_2019.head()\n"
   ]
  },
  {
   "cell_type": "code",
   "execution_count": 57,
   "metadata": {},
   "outputs": [
    {
     "name": "stdout",
     "output_type": "stream",
     "text": [
      "<class 'pandas.core.frame.DataFrame'>\n",
      "Float64Index: 16 entries, 2555.0 to 3541.0\n",
      "Data columns (total 9 columns):\n",
      "Major                16 non-null float64\n",
      "Minor                16 non-null float64\n",
      "DocumentDate         16 non-null object\n",
      "SalePrice            16 non-null float64\n",
      "SqFtTotLiving        16 non-null float64\n",
      "ZipCode              16 non-null object\n",
      "PricePerSqFt         16 non-null float64\n",
      "DocumentDateClean    16 non-null datetime64[ns]\n",
      "DocumentYear         16 non-null float64\n",
      "dtypes: datetime64[ns](1), float64(6), object(2)\n",
      "memory usage: 1.2+ KB\n"
     ]
    }
   ],
   "source": [
    "dummy_sales_2019.info()"
   ]
  },
  {
   "cell_type": "markdown",
   "metadata": {},
   "source": [
    "### 5. Subset the data to zip codes within the City of Seattle.\n",
    "\n",
    "You'll need to find a list of Seattle zip codes!"
   ]
  },
  {
   "cell_type": "code",
   "execution_count": 58,
   "metadata": {},
   "outputs": [],
   "source": [
    "seattle_zips = [98101, 98102, 98103, 98104, 98105, 98106, 98107, 98108, 98109, 98112, 98115, 98116, 98117, 98118, 98119, 98121, 98122, 98125, 98126, 98133, 98134, 98136, 98144, 98146, 98154, 98164, 98174, 98177, 98178, 98195, 98199]"
   ]
  },
  {
   "cell_type": "code",
   "execution_count": 59,
   "metadata": {},
   "outputs": [],
   "source": [
    "seattle_sales_2019 = dummy_sales_2019.loc[dummy_sales_2019[\"ZipCode\"].isin([str(t) for t in seattle_zips]), :]\n"
   ]
  },
  {
   "cell_type": "code",
   "execution_count": 60,
   "metadata": {
    "scrolled": true
   },
   "outputs": [
    {
     "name": "stdout",
     "output_type": "stream",
     "text": [
      "<class 'pandas.core.frame.DataFrame'>\n",
      "Float64Index: 5 entries, 2821.0 to 868.0\n",
      "Data columns (total 9 columns):\n",
      "Major                5 non-null float64\n",
      "Minor                5 non-null float64\n",
      "DocumentDate         5 non-null object\n",
      "SalePrice            5 non-null float64\n",
      "SqFtTotLiving        5 non-null float64\n",
      "ZipCode              5 non-null object\n",
      "PricePerSqFt         5 non-null float64\n",
      "DocumentDateClean    5 non-null datetime64[ns]\n",
      "DocumentYear         5 non-null float64\n",
      "dtypes: datetime64[ns](1), float64(6), object(2)\n",
      "memory usage: 400.0+ bytes\n"
     ]
    }
   ],
   "source": [
    "seattle_sales_2019.info()"
   ]
  },
  {
   "cell_type": "code",
   "execution_count": 61,
   "metadata": {},
   "outputs": [
    {
     "data": {
      "text/html": [
       "<div>\n",
       "<style scoped>\n",
       "    .dataframe tbody tr th:only-of-type {\n",
       "        vertical-align: middle;\n",
       "    }\n",
       "\n",
       "    .dataframe tbody tr th {\n",
       "        vertical-align: top;\n",
       "    }\n",
       "\n",
       "    .dataframe thead th {\n",
       "        text-align: right;\n",
       "    }\n",
       "</style>\n",
       "<table border=\"1\" class=\"dataframe\">\n",
       "  <thead>\n",
       "    <tr style=\"text-align: right;\">\n",
       "      <th></th>\n",
       "      <th>Major</th>\n",
       "      <th>Minor</th>\n",
       "      <th>DocumentDate</th>\n",
       "      <th>SalePrice</th>\n",
       "      <th>SqFtTotLiving</th>\n",
       "      <th>ZipCode</th>\n",
       "      <th>PricePerSqFt</th>\n",
       "      <th>DocumentDateClean</th>\n",
       "      <th>DocumentYear</th>\n",
       "    </tr>\n",
       "  </thead>\n",
       "  <tbody>\n",
       "    <tr>\n",
       "      <th>2821.0</th>\n",
       "      <td>945920.0</td>\n",
       "      <td>125.0</td>\n",
       "      <td>01/29/2019</td>\n",
       "      <td>1750000.0</td>\n",
       "      <td>1400.0</td>\n",
       "      <td>98118</td>\n",
       "      <td>1250.000000</td>\n",
       "      <td>2019-01-29</td>\n",
       "      <td>2019.0</td>\n",
       "    </tr>\n",
       "    <tr>\n",
       "      <th>5359.0</th>\n",
       "      <td>186240.0</td>\n",
       "      <td>105.0</td>\n",
       "      <td>03/19/2019</td>\n",
       "      <td>380000.0</td>\n",
       "      <td>800.0</td>\n",
       "      <td>98117</td>\n",
       "      <td>475.000000</td>\n",
       "      <td>2019-03-19</td>\n",
       "      <td>2019.0</td>\n",
       "    </tr>\n",
       "    <tr>\n",
       "      <th>5359.0</th>\n",
       "      <td>186240.0</td>\n",
       "      <td>105.0</td>\n",
       "      <td>03/19/2019</td>\n",
       "      <td>380000.0</td>\n",
       "      <td>800.0</td>\n",
       "      <td>98117</td>\n",
       "      <td>475.000000</td>\n",
       "      <td>2019-03-19</td>\n",
       "      <td>2019.0</td>\n",
       "    </tr>\n",
       "    <tr>\n",
       "      <th>2821.0</th>\n",
       "      <td>945920.0</td>\n",
       "      <td>125.0</td>\n",
       "      <td>01/29/2019</td>\n",
       "      <td>1750000.0</td>\n",
       "      <td>1400.0</td>\n",
       "      <td>98118</td>\n",
       "      <td>1250.000000</td>\n",
       "      <td>2019-01-29</td>\n",
       "      <td>2019.0</td>\n",
       "    </tr>\n",
       "    <tr>\n",
       "      <th>868.0</th>\n",
       "      <td>350160.0</td>\n",
       "      <td>125.0</td>\n",
       "      <td>02/06/2019</td>\n",
       "      <td>935000.0</td>\n",
       "      <td>2460.0</td>\n",
       "      <td>98117</td>\n",
       "      <td>380.081301</td>\n",
       "      <td>2019-02-06</td>\n",
       "      <td>2019.0</td>\n",
       "    </tr>\n",
       "  </tbody>\n",
       "</table>\n",
       "</div>"
      ],
      "text/plain": [
       "           Major  Minor DocumentDate  SalePrice  SqFtTotLiving ZipCode  \\\n",
       "2821.0  945920.0  125.0   01/29/2019  1750000.0         1400.0   98118   \n",
       "5359.0  186240.0  105.0   03/19/2019   380000.0          800.0   98117   \n",
       "5359.0  186240.0  105.0   03/19/2019   380000.0          800.0   98117   \n",
       "2821.0  945920.0  125.0   01/29/2019  1750000.0         1400.0   98118   \n",
       "868.0   350160.0  125.0   02/06/2019   935000.0         2460.0   98117   \n",
       "\n",
       "        PricePerSqFt DocumentDateClean  DocumentYear  \n",
       "2821.0   1250.000000        2019-01-29        2019.0  \n",
       "5359.0    475.000000        2019-03-19        2019.0  \n",
       "5359.0    475.000000        2019-03-19        2019.0  \n",
       "2821.0   1250.000000        2019-01-29        2019.0  \n",
       "868.0     380.081301        2019-02-06        2019.0  "
      ]
     },
     "execution_count": 61,
     "metadata": {},
     "output_type": "execute_result"
    }
   ],
   "source": [
    "seattle_sales_2019"
   ]
  },
  {
   "cell_type": "markdown",
   "metadata": {},
   "source": [
    "### 6. What is the mean price per square foot for a house sold in Seattle in 2019?\n",
    "\n",
    "Don't just type the answer. Type code that generates the answer as output!"
   ]
  },
  {
   "cell_type": "markdown",
   "metadata": {},
   "source": [
    "Assuming there were only 16 2019 sales on the list, 5 of them with Seattle Zip Codes"
   ]
  },
  {
   "cell_type": "code",
   "execution_count": 62,
   "metadata": {},
   "outputs": [],
   "source": [
    "mean_price_sq_ft = seattle_sales_2019[\"PricePerSqFt\"].mean()"
   ]
  },
  {
   "cell_type": "code",
   "execution_count": 63,
   "metadata": {},
   "outputs": [
    {
     "data": {
      "text/plain": [
       "766.0162601626016"
      ]
     },
     "execution_count": 63,
     "metadata": {},
     "output_type": "execute_result"
    }
   ],
   "source": [
    "mean_price_sq_ft"
   ]
  },
  {
   "cell_type": "markdown",
   "metadata": {},
   "source": [
    "About 3/4 of a million dollars, which seems about right. "
   ]
  }
 ],
 "metadata": {
  "kernelspec": {
   "display_name": "Python [conda env:root]",
   "language": "python",
   "name": "conda-root-py"
  },
  "language_info": {
   "codemirror_mode": {
    "name": "ipython",
    "version": 3
   },
   "file_extension": ".py",
   "mimetype": "text/x-python",
   "name": "python",
   "nbconvert_exporter": "python",
   "pygments_lexer": "ipython3",
   "version": "3.7.1"
  }
 },
 "nbformat": 4,
 "nbformat_minor": 2
}
